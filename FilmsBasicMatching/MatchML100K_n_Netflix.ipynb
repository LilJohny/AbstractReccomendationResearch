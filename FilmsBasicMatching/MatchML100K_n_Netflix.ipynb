{
 "cells": [
  {
   "cell_type": "code",
   "execution_count": 3,
   "metadata": {},
   "outputs": [
    {
     "name": "stdout",
     "output_type": "stream",
     "text": [
      "combined_data_1.txt\r\n",
      "combined_data_2.txt\r\n",
      "combined_data_3.txt\r\n",
      "combined_data_4.txt\r\n",
      "data.zip\r\n",
      "movie_titles.csv\r\n",
      "netflix_movie_titles_new.pkl\r\n",
      "netflix_movie_titles_new_pt0.pkl\r\n",
      "netflix_movie_titles_new_pt1.pkl\r\n",
      "netflix_movie_titles_new_pt2.pkl\r\n",
      "netflix_movie_titles_new_pt3.pkl\r\n",
      "netflix_movie_titles_new_pt4.pkl\r\n",
      "netflix_movie_titles_new_pt5.pkl\r\n",
      "netflix_movie_titles_new_pt6.pkl\r\n",
      "netflix_movie_titles_new_pt7.pkl\r\n",
      "netflix_stadardized_movie_info.pt0.pkl\r\n",
      "netflix_stadardized_movie_info.pt1_real1.pkl\r\n",
      "netflix_stadardized_movie_info.pt2.pkl\r\n",
      "netflix_stadardized_movie_info.pt3.pkl\r\n",
      "netflix_stadardized_movie_info.pt4.pkl\r\n",
      "netflix_stadardized_movie_info.pt5.pkl\r\n",
      "netflix_stadardized_movie_info_pt6.pkl\r\n",
      "netflix_stadardized_movie_info.pt7.pkl\r\n",
      "probe.txt\r\n",
      "qualifying.txt\r\n",
      "README\r\n",
      "StadardizeNetflixFilms1.ipynb\r\n",
      "StadardizeNetflixFilms1_real1.ipynb\r\n",
      "StadardizeNetflixFilms2.ipynb\r\n",
      "StadardizeNetflixFilms3.ipynb\r\n",
      "StadardizeNetflixFilms4.ipynb\r\n",
      "StadardizeNetflixFilms5.ipynb\r\n",
      "StadardizeNetflixFilms6.ipynb\r\n",
      "StadardizeNetflixFilms7.ipynb\r\n",
      "StadardizeNetflixFilms.ipynb\r\n",
      "test.pt1.pkl\r\n",
      "Untitled.ipynb\r\n"
     ]
    }
   ],
   "source": [
    "!ls ../NetflixPrize"
   ]
  },
  {
   "cell_type": "code",
   "execution_count": 8,
   "metadata": {},
   "outputs": [
    {
     "name": "stdout",
     "output_type": "stream",
     "text": [
      "netflix_stadardized_movie_info.pt0.pkl\n",
      "netflix_stadardized_movie_info.pt1_real1.pkl\n",
      "netflix_stadardized_movie_info.pt2.pkl\n",
      "netflix_stadardized_movie_info.pt3.pkl\n",
      "netflix_stadardized_movie_info.pt4.pkl\n",
      "netflix_stadardized_movie_info.pt5.pkl\n",
      "netflix_stadardized_movie_info_pt6.pkl\n",
      "netflix_stadardized_movie_info.pt7.pkl\n"
     ]
    }
   ],
   "source": [
    "import pandas as pd\n",
    "netflix_movies_info = []\n",
    "\n",
    "for fname in [\"netflix_stadardized_movie_info.pt0.pkl\",\n",
    "\"netflix_stadardized_movie_info.pt1_real1.pkl\",\n",
    "\"netflix_stadardized_movie_info.pt2.pkl\",\n",
    "\"netflix_stadardized_movie_info.pt3.pkl\",\n",
    "\"netflix_stadardized_movie_info.pt4.pkl\",\n",
    "\"netflix_stadardized_movie_info.pt5.pkl\",\n",
    "\"netflix_stadardized_movie_info_pt6.pkl\",\n",
    "\"netflix_stadardized_movie_info.pt7.pkl\"]:\n",
    "    netflix_movies_info += pd.read_pickle(\"../NetflixPrize/\" + fname)\n",
    "    print(fname)"
   ]
  },
  {
   "cell_type": "code",
   "execution_count": 9,
   "metadata": {},
   "outputs": [
    {
     "data": {
      "text/plain": [
       "17770"
      ]
     },
     "execution_count": 9,
     "metadata": {},
     "output_type": "execute_result"
    }
   ],
   "source": [
    "len(netflix_movies_info)"
   ]
  },
  {
   "cell_type": "code",
   "execution_count": 35,
   "metadata": {},
   "outputs": [
    {
     "data": {
      "text/plain": [
       "[]"
      ]
     },
     "execution_count": 35,
     "metadata": {},
     "output_type": "execute_result"
    }
   ],
   "source": [
    "list(filter(lambda x: not x['title'],netflix_movies_info))#all matched"
   ]
  },
  {
   "cell_type": "code",
   "execution_count": 16,
   "metadata": {},
   "outputs": [],
   "source": [
    "all_film_ids = [x[\"film_id\"] for x in netflix_movies_info]"
   ]
  },
  {
   "cell_type": "code",
   "execution_count": 17,
   "metadata": {},
   "outputs": [
    {
     "data": {
      "text/plain": [
       "17770"
      ]
     },
     "execution_count": 17,
     "metadata": {},
     "output_type": "execute_result"
    }
   ],
   "source": [
    "max(all_film_ids)"
   ]
  },
  {
   "cell_type": "code",
   "execution_count": 19,
   "metadata": {},
   "outputs": [
    {
     "data": {
      "text/plain": [
       "{'filmname_given': 'Dinosaur Planet(2003)',\n",
       " 'film_id': 1,\n",
       " 'title': 'Dinosaur Planet',\n",
       " 'year': 2003,\n",
       " 'cast': ['Christian Slater', 'Scott Sampson'],\n",
       " 'genres': ['Documentary', 'Animation', 'Family'],\n",
       " 'director': ['Pierre de Lespinois'],\n",
       " 'plot': ['A four-episode animated series charting the adventures of four dinosaurs - each on a different continent in the prehistoric world: a lone female Velociraptor in Asia; a young male Daspletosaurus in North America; a South American female Saltasaur; and a young adult Pyroraptor in Europe. Narrated by Christian Slater and hosted by paleontologist Scott Sampson.::Anonymous']}"
      ]
     },
     "execution_count": 19,
     "metadata": {},
     "output_type": "execute_result"
    }
   ],
   "source": [
    "netflix_movies_info[0]"
   ]
  },
  {
   "cell_type": "code",
   "execution_count": 20,
   "metadata": {},
   "outputs": [],
   "source": [
    "ml100k_movies_info = pd.read_pickle(\"ml100k_standard_filminfo.pkl\")"
   ]
  },
  {
   "cell_type": "code",
   "execution_count": 21,
   "metadata": {},
   "outputs": [
    {
     "data": {
      "text/plain": [
       "{'filmname_given': 'Toy Story (1995)',\n",
       " 'film_id': 1,\n",
       " 'title': 'Toy Story',\n",
       " 'year': 1995,\n",
       " 'cast': ['Tom Hanks',\n",
       "  'Tim Allen',\n",
       "  'Don Rickles',\n",
       "  'Jim Varney',\n",
       "  'Wallace Shawn',\n",
       "  'John Ratzenberger',\n",
       "  'Annie Potts',\n",
       "  'John Morris',\n",
       "  'Erik von Detten',\n",
       "  'Laurie Metcalf',\n",
       "  'R. Lee Ermey',\n",
       "  'Sarah Freeman',\n",
       "  'Penn Jillette',\n",
       "  'Jack Angel',\n",
       "  'Spencer Aste',\n",
       "  'Greg Berg',\n",
       "  'Lisa Bradley',\n",
       "  'Kendall Cunningham',\n",
       "  'Debi Derryberry',\n",
       "  'Cody Dorkin',\n",
       "  'Bill Farmer',\n",
       "  'Craig Good',\n",
       "  'Gregory Grudt',\n",
       "  'Danielle Judovits',\n",
       "  'Sam Lasseter',\n",
       "  'Brittany Levenbrown',\n",
       "  'Sherry Lynn',\n",
       "  'Scott McAfee',\n",
       "  'Mickie McGowan',\n",
       "  \"Ryan O'Donohue\",\n",
       "  'Jeff Pidgeon',\n",
       "  'Patrick Pinney',\n",
       "  'Phil Proctor',\n",
       "  'Jan Rabson',\n",
       "  'Joe Ranft',\n",
       "  'Andrew Stanton',\n",
       "  'Shane Sweet',\n",
       "  'Anthony Burch',\n",
       "  'Nenad Cvetko',\n",
       "  'Pat Fry',\n",
       "  'Carole Jeghers',\n",
       "  'Nathan Lane',\n",
       "  'John Lasseter',\n",
       "  'Branko Menicanin',\n",
       "  'Kresimir Mikic',\n",
       "  'Luka Peros',\n",
       "  'Ernie Sabella',\n",
       "  'Ranko Zidaric'],\n",
       " 'genres': ['Animation', 'Adventure', 'Comedy', 'Family', 'Fantasy'],\n",
       " 'director': ['John Lasseter'],\n",
       " 'plot': [\"A cowboy doll is profoundly threatened and jealous when a new spaceman figure supplants him as top toy in a boy's room.::Kenneth Chisholm\",\n",
       "  'A little boy named Andy loves to be in his room, playing with his toys, especially his doll named \"Woody\". But, what do the toys do when Andy is not with them, they come to life. Woody believes that his life (as a toy) is good. However, he must worry about Andy\\'s family moving, and what Woody does not know is about Andy\\'s birthday party. Woody does not realize that Andy\\'s mother gave him an action figure known as Buzz Lightyear, who does not believe that he is a toy, and quickly becomes Andy\\'s new favorite toy. Woody, who is now consumed with jealousy, tries to get rid of Buzz. Then, both Woody and Buzz are now lost. They must find a way to get back to Andy before he moves without them, but they will have to pass through a ruthless toy killer, Sid Phillips.::John Wiggins',\n",
       "  \"Woody, a good-hearted cowboy doll who belongs to a young boy named Andy, sees his position as Andy's favorite toy jeopardized when his mom buys him a Buzz Lightyear action figure. Even worse, the arrogant Buzz thinks he's a real spaceman on a mission to return to his home planet. When Andy's family moves to a new house, Woody and Buzz must escape the clutches of maladjusted neighbor Sid Phillips and reunite with their boy.::Jwelch5742\",\n",
       "  \"Toy Story is about the 'secret life of toys' when people are not around. When Buzz Lightyear, a space-ranger, takes Woody's place as Andy's favorite toy, Woody doesn't like the situation and gets into a fight with Buzz. Accidentaly Buzz falls out the window and Woody is accused by all the other toys of having killed him. He has to go out of the house to look for him so that they can both return to Andys room. But while on the outside they get into all kind of trouble while trying to get home.::Marcos Eduardo Acosta Aldrete\",\n",
       "  'Imagination runs rampant when toys become mobile when not watched. Two toys, Woody and Buzz Lightyear despise each other like no other. But, when the toys are separated from their home, a truce is formed between them all in an effort to journey home.::Joshua Davis <xtnb64a@prodigy.com>',\n",
       "  \"A toy named Woody has it all. He is practically the leader in Andy's toy room, Bo Peep has the hots for him, and most importantly, he is Andy's favorite toy. But when the clocks strike Andy's birthday, a new toy arrives. Buzz Lightyear, a space cadet who thinks he is a space ranger, (not a toy in a room) instantly wins over Andy, thus becoming Andy's new treasure. But when Woody is accused of knocking Buzz out of the window, he must go into the world and find Buzz, with many delays...::neo101\"]}"
      ]
     },
     "execution_count": 21,
     "metadata": {},
     "output_type": "execute_result"
    }
   ],
   "source": [
    "ml100k_movies_info[0]"
   ]
  },
  {
   "cell_type": "code",
   "execution_count": 25,
   "metadata": {},
   "outputs": [],
   "source": [
    "for doc in netflix_movies_info:\n",
    "    doc[\"concated_for_matching\"] = doc[\"title\"].strip().lower() + str(doc[\"year\"]).strip().lower() + \",\".join(doc[\"director\"]).strip().lower()"
   ]
  },
  {
   "cell_type": "code",
   "execution_count": 31,
   "metadata": {},
   "outputs": [],
   "source": [
    "for doc in ml100k_movies_info:\n",
    "    doc[\"concated_for_matching\"] = doc.get(\"title\",\"UNMATCHED_ERROR\").strip().lower() + str(doc.get(\"year\", \"UNMATCHED_ERROR\")).strip().lower() + \",\".join(doc.get(\"director\", \"UNMATCHED_ERROR\")).strip().lower()"
   ]
  },
  {
   "cell_type": "code",
   "execution_count": 32,
   "metadata": {},
   "outputs": [
    {
     "data": {
      "text/plain": [
       "{'filmname_given': 'Toy Story (1995)',\n",
       " 'film_id': 1,\n",
       " 'title': 'Toy Story',\n",
       " 'year': 1995,\n",
       " 'cast': ['Tom Hanks',\n",
       "  'Tim Allen',\n",
       "  'Don Rickles',\n",
       "  'Jim Varney',\n",
       "  'Wallace Shawn',\n",
       "  'John Ratzenberger',\n",
       "  'Annie Potts',\n",
       "  'John Morris',\n",
       "  'Erik von Detten',\n",
       "  'Laurie Metcalf',\n",
       "  'R. Lee Ermey',\n",
       "  'Sarah Freeman',\n",
       "  'Penn Jillette',\n",
       "  'Jack Angel',\n",
       "  'Spencer Aste',\n",
       "  'Greg Berg',\n",
       "  'Lisa Bradley',\n",
       "  'Kendall Cunningham',\n",
       "  'Debi Derryberry',\n",
       "  'Cody Dorkin',\n",
       "  'Bill Farmer',\n",
       "  'Craig Good',\n",
       "  'Gregory Grudt',\n",
       "  'Danielle Judovits',\n",
       "  'Sam Lasseter',\n",
       "  'Brittany Levenbrown',\n",
       "  'Sherry Lynn',\n",
       "  'Scott McAfee',\n",
       "  'Mickie McGowan',\n",
       "  \"Ryan O'Donohue\",\n",
       "  'Jeff Pidgeon',\n",
       "  'Patrick Pinney',\n",
       "  'Phil Proctor',\n",
       "  'Jan Rabson',\n",
       "  'Joe Ranft',\n",
       "  'Andrew Stanton',\n",
       "  'Shane Sweet',\n",
       "  'Anthony Burch',\n",
       "  'Nenad Cvetko',\n",
       "  'Pat Fry',\n",
       "  'Carole Jeghers',\n",
       "  'Nathan Lane',\n",
       "  'John Lasseter',\n",
       "  'Branko Menicanin',\n",
       "  'Kresimir Mikic',\n",
       "  'Luka Peros',\n",
       "  'Ernie Sabella',\n",
       "  'Ranko Zidaric'],\n",
       " 'genres': ['Animation', 'Adventure', 'Comedy', 'Family', 'Fantasy'],\n",
       " 'director': ['John Lasseter'],\n",
       " 'plot': [\"A cowboy doll is profoundly threatened and jealous when a new spaceman figure supplants him as top toy in a boy's room.::Kenneth Chisholm\",\n",
       "  'A little boy named Andy loves to be in his room, playing with his toys, especially his doll named \"Woody\". But, what do the toys do when Andy is not with them, they come to life. Woody believes that his life (as a toy) is good. However, he must worry about Andy\\'s family moving, and what Woody does not know is about Andy\\'s birthday party. Woody does not realize that Andy\\'s mother gave him an action figure known as Buzz Lightyear, who does not believe that he is a toy, and quickly becomes Andy\\'s new favorite toy. Woody, who is now consumed with jealousy, tries to get rid of Buzz. Then, both Woody and Buzz are now lost. They must find a way to get back to Andy before he moves without them, but they will have to pass through a ruthless toy killer, Sid Phillips.::John Wiggins',\n",
       "  \"Woody, a good-hearted cowboy doll who belongs to a young boy named Andy, sees his position as Andy's favorite toy jeopardized when his mom buys him a Buzz Lightyear action figure. Even worse, the arrogant Buzz thinks he's a real spaceman on a mission to return to his home planet. When Andy's family moves to a new house, Woody and Buzz must escape the clutches of maladjusted neighbor Sid Phillips and reunite with their boy.::Jwelch5742\",\n",
       "  \"Toy Story is about the 'secret life of toys' when people are not around. When Buzz Lightyear, a space-ranger, takes Woody's place as Andy's favorite toy, Woody doesn't like the situation and gets into a fight with Buzz. Accidentaly Buzz falls out the window and Woody is accused by all the other toys of having killed him. He has to go out of the house to look for him so that they can both return to Andys room. But while on the outside they get into all kind of trouble while trying to get home.::Marcos Eduardo Acosta Aldrete\",\n",
       "  'Imagination runs rampant when toys become mobile when not watched. Two toys, Woody and Buzz Lightyear despise each other like no other. But, when the toys are separated from their home, a truce is formed between them all in an effort to journey home.::Joshua Davis <xtnb64a@prodigy.com>',\n",
       "  \"A toy named Woody has it all. He is practically the leader in Andy's toy room, Bo Peep has the hots for him, and most importantly, he is Andy's favorite toy. But when the clocks strike Andy's birthday, a new toy arrives. Buzz Lightyear, a space cadet who thinks he is a space ranger, (not a toy in a room) instantly wins over Andy, thus becoming Andy's new treasure. But when Woody is accused of knocking Buzz out of the window, he must go into the world and find Buzz, with many delays...::neo101\"],\n",
       " 'concated_for_matching': 'toy story1995john lasseter'}"
      ]
     },
     "execution_count": 32,
     "metadata": {},
     "output_type": "execute_result"
    }
   ],
   "source": [
    "ml100k_movies_info[0]"
   ]
  },
  {
   "cell_type": "code",
   "execution_count": 45,
   "metadata": {},
   "outputs": [],
   "source": [
    "from collections import defaultdict\n",
    "netflix_movies_info_concatkey_to_full_info = defaultdict(list)\n",
    "for doc in netflix_movies_info:\n",
    "    netflix_movies_info_concatkey_to_full_info[doc['concated_for_matching']].append(doc)"
   ]
  },
  {
   "cell_type": "code",
   "execution_count": 42,
   "metadata": {},
   "outputs": [],
   "source": [
    "from collections import Counter\n",
    "concated_for_matching_counter = Counter([doc['concated_for_matching'] for doc in netflix_movies_info])"
   ]
  },
  {
   "cell_type": "code",
   "execution_count": 43,
   "metadata": {},
   "outputs": [
    {
     "data": {
      "text/plain": [
       "[('(2004)2004', 212),\n",
       " ('ncis2003', 168),\n",
       " ('wonder woman 19842020patty jenkins', 165),\n",
       " ('(2002)2002', 156),\n",
       " ('house of 1000 corpses2003rob zombie', 147),\n",
       " ('(2001)2001', 128),\n",
       " ('law & order: special victims unit1999', 85),\n",
       " ('supernatural2005', 85),\n",
       " ('halloweentown1998duwayne dunham', 76),\n",
       " ('south park1997', 51)]"
      ]
     },
     "execution_count": 43,
     "metadata": {},
     "output_type": "execute_result"
    }
   ],
   "source": [
    "concated_for_matching_counter.most_common(10)"
   ]
  },
  {
   "cell_type": "code",
   "execution_count": 48,
   "metadata": {},
   "outputs": [
    {
     "name": "stdout",
     "output_type": "stream",
     "text": [
      "The Best of Designing Women(1986)\n",
      "Wonder Woman 1984\n",
      "2020\n",
      "++++++++++++++++++++++++++++++++++++++\n",
      "Transformers: Season 3: Part 1(1986)\n",
      "Wonder Woman 1984\n",
      "2020\n",
      "++++++++++++++++++++++++++++++++++++++\n",
      "Glory: Bonus Material(1989)\n",
      "Wonder Woman 1984\n",
      "2020\n",
      "++++++++++++++++++++++++++++++++++++++\n",
      "Maurice: Bonus Material(1987)\n",
      "Wonder Woman 1984\n",
      "2020\n",
      "++++++++++++++++++++++++++++++++++++++\n",
      "Dario Argento Collection: Vol. 2: Demons 2(1986)\n",
      "Wonder Woman 1984\n",
      "2020\n",
      "++++++++++++++++++++++++++++++++++++++\n",
      "Ken Burns' America: The Congress(1988)\n",
      "Wonder Woman 1984\n",
      "2020\n",
      "++++++++++++++++++++++++++++++++++++++\n",
      "Magnum P.I.: Season 1(1980)\n",
      "Wonder Woman 1984\n",
      "2020\n",
      "++++++++++++++++++++++++++++++++++++++\n",
      "Aida: Giuseppe Verdi: Teatro Alla Scala(1986)\n",
      "Wonder Woman 1984\n",
      "2020\n",
      "++++++++++++++++++++++++++++++++++++++\n",
      "Red Dwarf: Series 2: Bonus Material(1988)\n",
      "Wonder Woman 1984\n",
      "2020\n",
      "++++++++++++++++++++++++++++++++++++++\n",
      "21 Jump Street: Season 2(1987)\n",
      "Wonder Woman 1984\n",
      "2020\n",
      "++++++++++++++++++++++++++++++++++++++\n",
      "John Lee Hooker: Live in Montreal: Montreal Jazz Festival(1980)\n",
      "Wonder Woman 1984\n",
      "2020\n",
      "++++++++++++++++++++++++++++++++++++++\n",
      "Dynasty: Season 1(1981)\n",
      "Wonder Woman 1984\n",
      "2020\n",
      "++++++++++++++++++++++++++++++++++++++\n",
      "Count Duckula: Season 1(1988)\n",
      "Wonder Woman 1984\n",
      "2020\n",
      "++++++++++++++++++++++++++++++++++++++\n",
      "Yes, Prime Minister: The Complete Collection(1986)\n",
      "Wonder Woman 1984\n",
      "2020\n",
      "++++++++++++++++++++++++++++++++++++++\n",
      "Married... with Children: The Most Outrageous Episodes: Vol. 2(1987)\n",
      "Wonder Woman 1984\n",
      "2020\n",
      "++++++++++++++++++++++++++++++++++++++\n",
      "Prom Night III / Prom Night IV: Double Feature(1989)\n",
      "Wonder Woman 1984\n",
      "2020\n",
      "++++++++++++++++++++++++++++++++++++++\n",
      "Dario Argento Collection: Vol. 1: Phenomena(1985)\n",
      "Wonder Woman 1984\n",
      "2020\n",
      "++++++++++++++++++++++++++++++++++++++\n",
      "Magnum P.I.: Season 2(1981)\n",
      "Wonder Woman 1984\n",
      "2020\n",
      "++++++++++++++++++++++++++++++++++++++\n",
      "Wiseguy: Season 1: Part 1(1987)\n",
      "Wonder Woman 1984\n",
      "2020\n",
      "++++++++++++++++++++++++++++++++++++++\n",
      "Ken Burns' America: Thomas Hart Benton(1988)\n",
      "Wonder Woman 1984\n",
      "2020\n",
      "++++++++++++++++++++++++++++++++++++++\n",
      "The Blues Brothers: Theatrical Cut(1980)\n",
      "Wonder Woman 1984\n",
      "2020\n",
      "++++++++++++++++++++++++++++++++++++++\n",
      "The Sex Pistols: The Great Rock 'n' Roll Swindle(1980)\n",
      "Wonder Woman 1984\n",
      "2020\n",
      "++++++++++++++++++++++++++++++++++++++\n",
      "Grateful Dead: View from the Vault 4(1987)\n",
      "Wonder Woman 1984\n",
      "2020\n",
      "++++++++++++++++++++++++++++++++++++++\n",
      "The Big Red One: Special Edition(1980)\n",
      "Wonder Woman 1984\n",
      "2020\n",
      "++++++++++++++++++++++++++++++++++++++\n",
      "Lucia Di Lammermoor: Donizetti: Australian Opera(1986)\n",
      "Wonder Woman 1984\n",
      "2020\n",
      "++++++++++++++++++++++++++++++++++++++\n",
      "The BRD Trilogy: Lola(1981)\n",
      "Wonder Woman 1984\n",
      "2020\n",
      "++++++++++++++++++++++++++++++++++++++\n",
      "Yes, Minister: Complete Collection(1980)\n",
      "Wonder Woman 1984\n",
      "2020\n",
      "++++++++++++++++++++++++++++++++++++++\n",
      "Degrassi Junior High: Season 3(1988)\n",
      "Wonder Woman 1984\n",
      "2020\n",
      "++++++++++++++++++++++++++++++++++++++\n",
      "Saved by the Bell: Season 1(1989)\n",
      "Wonder Woman 1984\n",
      "2020\n",
      "++++++++++++++++++++++++++++++++++++++\n",
      "Rick Springfield: The Beat of the Live Drum(1985)\n",
      "Wonder Woman 1984\n",
      "2020\n",
      "++++++++++++++++++++++++++++++++++++++\n",
      "Predator: Collector's Edition: Bonus Material(1987)\n",
      "Wonder Woman 1984\n",
      "2020\n",
      "++++++++++++++++++++++++++++++++++++++\n",
      "Mecha Masters: M.D. Geist / M.D. Geist: Death Force(1986)\n",
      "Wonder Woman 1984\n",
      "2020\n",
      "++++++++++++++++++++++++++++++++++++++\n",
      "Who Framed Roger Rabbit?: Special Edition(1988)\n",
      "Wonder Woman 1984\n",
      "2020\n",
      "++++++++++++++++++++++++++++++++++++++\n",
      "Mozart: Don Giovanni: Teatro Alla Scala(1989)\n",
      "Wonder Woman 1984\n",
      "2020\n",
      "++++++++++++++++++++++++++++++++++++++\n",
      "Ronin Warriors: Collection(1988)\n",
      "Wonder Woman 1984\n",
      "2020\n",
      "++++++++++++++++++++++++++++++++++++++\n",
      "Only Fools and Horses: Series 1-3(1981)\n",
      "Wonder Woman 1984\n",
      "2020\n",
      "++++++++++++++++++++++++++++++++++++++\n",
      "Police Academy: Special Edition(1984)\n",
      "Wonder Woman 1984\n",
      "2020\n",
      "++++++++++++++++++++++++++++++++++++++\n",
      "The Mission: Special Edition: Bonus Material(1986)\n",
      "Wonder Woman 1984\n",
      "2020\n",
      "++++++++++++++++++++++++++++++++++++++\n",
      "The Blues Brothers: Extended Cut(1980)\n",
      "Wonder Woman 1984\n",
      "2020\n",
      "++++++++++++++++++++++++++++++++++++++\n",
      "Footloose: Special Collector's Edition(1984)\n",
      "Wonder Woman 1984\n",
      "2020\n",
      "++++++++++++++++++++++++++++++++++++++\n",
      "Shakespeare Tragedies: Hamlet(1980)\n",
      "Wonder Woman 1984\n",
      "2020\n",
      "++++++++++++++++++++++++++++++++++++++\n",
      "Mapp and Lucia: Series 2(1986)\n",
      "Wonder Woman 1984\n",
      "2020\n",
      "++++++++++++++++++++++++++++++++++++++\n",
      "American Ninja 2 / American Ninja 3: Double Feature(1987)\n",
      "Wonder Woman 1984\n",
      "2020\n",
      "++++++++++++++++++++++++++++++++++++++\n",
      "Sandbaggers: Collection 3(1980)\n",
      "Wonder Woman 1984\n",
      "2020\n",
      "++++++++++++++++++++++++++++++++++++++\n",
      "Dirty Dancing: Bonus Material(1987)\n",
      "Wonder Woman 1984\n",
      "2020\n",
      "++++++++++++++++++++++++++++++++++++++\n",
      "The Lost Boys: Special Edition: Bonus Material(1987)\n",
      "Wonder Woman 1984\n",
      "2020\n",
      "++++++++++++++++++++++++++++++++++++++\n",
      "Miami Vice: Season 1(1984)\n",
      "Wonder Woman 1984\n",
      "2020\n",
      "++++++++++++++++++++++++++++++++++++++\n",
      "Huey Lewis and the News: Rockpalast Live(1984)\n",
      "Wonder Woman 1984\n",
      "2020\n",
      "++++++++++++++++++++++++++++++++++++++\n",
      "Jem & The Holograms: Seasons 1 & 2(1985)\n",
      "Wonder Woman 1984\n",
      "2020\n",
      "++++++++++++++++++++++++++++++++++++++\n",
      "Purple Rain: Special Edition(1984)\n",
      "Wonder Woman 1984\n",
      "2020\n",
      "++++++++++++++++++++++++++++++++++++++\n",
      "Wiseguy: Season 1: Part 2(1988)\n",
      "Wonder Woman 1984\n",
      "2020\n",
      "++++++++++++++++++++++++++++++++++++++\n",
      "Howling V / Howling VI: Double Feature(1989)\n",
      "Wonder Woman 1984\n",
      "2020\n",
      "++++++++++++++++++++++++++++++++++++++\n",
      "Fraggle Rock: Doin' Things That Doozers Do(1985)\n",
      "Wonder Woman 1984\n",
      "2020\n",
      "++++++++++++++++++++++++++++++++++++++\n",
      "Airwolf: Season 1(1984)\n",
      "Wonder Woman 1984\n",
      "2020\n",
      "++++++++++++++++++++++++++++++++++++++\n",
      "The Cosby Show: Season 1(1984)\n",
      "Wonder Woman 1984\n",
      "2020\n",
      "++++++++++++++++++++++++++++++++++++++\n",
      "Raging Bull: Collector's Edition: Bonus Material(1980)\n",
      "Wonder Woman 1984\n",
      "2020\n",
      "++++++++++++++++++++++++++++++++++++++\n",
      "The Dame Edna Experience: The Christmas Specials(1987)\n",
      "Wonder Woman 1984\n",
      "2020\n",
      "++++++++++++++++++++++++++++++++++++++\n",
      "MacGyver: Season 3(1987)\n",
      "Wonder Woman 1984\n",
      "2020\n",
      "++++++++++++++++++++++++++++++++++++++\n",
      "Care Bears: Festival of Fun(1988)\n",
      "Wonder Woman 1984\n",
      "2020\n",
      "++++++++++++++++++++++++++++++++++++++\n",
      "Project A-ko: Uncivil Wars(1986)\n",
      "Wonder Woman 1984\n",
      "2020\n",
      "++++++++++++++++++++++++++++++++++++++\n",
      "Who's the Boss?: Season 1(1984)\n",
      "Wonder Woman 1984\n",
      "2020\n",
      "++++++++++++++++++++++++++++++++++++++\n",
      "Nayagan: Tamil(1987)\n",
      "Wonder Woman 1984\n",
      "2020\n",
      "++++++++++++++++++++++++++++++++++++++\n",
      "Cinema Paradiso: Director's Cut(1988)\n",
      "Wonder Woman 1984\n",
      "2020\n",
      "++++++++++++++++++++++++++++++++++++++\n",
      "The Abyss: Bonus Material(1989)\n",
      "Wonder Woman 1984\n",
      "2020\n",
      "++++++++++++++++++++++++++++++++++++++\n",
      "Kimagure Orange Road TV Series(1987)\n",
      "Wonder Woman 1984\n",
      "2020\n",
      "++++++++++++++++++++++++++++++++++++++\n",
      "Married... with Children: The Most Outrageous Episodes: Vol. 1(1987)\n",
      "Wonder Woman 1984\n",
      "2020\n",
      "++++++++++++++++++++++++++++++++++++++\n",
      "Ken Burns' America: The Statue of Liberty(1986)\n",
      "Wonder Woman 1984\n",
      "2020\n",
      "++++++++++++++++++++++++++++++++++++++\n",
      "Carpenters: Gold: Greatest Hits(1985)\n",
      "Wonder Woman 1984\n",
      "2020\n",
      "++++++++++++++++++++++++++++++++++++++\n",
      "Metropolitan Opera: G. Puccini: Manon Lescaut(1980)\n",
      "Wonder Woman 1984\n",
      "2020\n",
      "++++++++++++++++++++++++++++++++++++++\n",
      "Project A-ko: Love and Robots(1987)\n",
      "Wonder Woman 1984\n",
      "2020\n",
      "++++++++++++++++++++++++++++++++++++++\n",
      "Sledge Hammer!: Season 2(1987)\n",
      "Wonder Woman 1984\n",
      "2020\n",
      "++++++++++++++++++++++++++++++++++++++\n",
      "Andy Kaufman: The Midnight Special(1981)\n",
      "Wonder Woman 1984\n",
      "2020\n",
      "++++++++++++++++++++++++++++++++++++++\n",
      "Doogie Howser, M.D.: Season 1(1989)\n",
      "Wonder Woman 1984\n",
      "2020\n",
      "++++++++++++++++++++++++++++++++++++++\n",
      "Sonny Rollins: Saxophone Colossus(1986)\n",
      "Wonder Woman 1984\n",
      "2020\n",
      "++++++++++++++++++++++++++++++++++++++\n",
      "Danger Mouse: Seasons 1 & 2(1981)\n",
      "Wonder Woman 1984\n",
      "2020\n",
      "++++++++++++++++++++++++++++++++++++++\n",
      "Poltergeist II / Poltergeist III: Double Feature(1986)\n",
      "Wonder Woman 1984\n",
      "2020\n",
      "++++++++++++++++++++++++++++++++++++++\n",
      "Kiki's Delivery Service: Bonus Material(1989)\n",
      "Wonder Woman 1984\n",
      "2020\n",
      "++++++++++++++++++++++++++++++++++++++\n",
      "Karajan: Mozart: Don Giovanni(1987)\n",
      "Wonder Woman 1984\n",
      "2020\n",
      "++++++++++++++++++++++++++++++++++++++\n",
      "Waxwork / Waxwork II: Double Feature(1988)\n",
      "Wonder Woman 1984\n",
      "2020\n",
      "++++++++++++++++++++++++++++++++++++++\n",
      "Castle in the Sky: Bonus Material(1986)\n",
      "Wonder Woman 1984\n",
      "2020\n",
      "++++++++++++++++++++++++++++++++++++++\n",
      "Ken Burns' America: Brooklyn Bridge(1981)\n",
      "Wonder Woman 1984\n",
      "2020\n",
      "++++++++++++++++++++++++++++++++++++++\n",
      "Inspector Morse 6: The Settling of the Sun(1988)\n",
      "Wonder Woman 1984\n",
      "2020\n",
      "++++++++++++++++++++++++++++++++++++++\n",
      "Troll / Troll 2: Double Feature(1986)\n",
      "Wonder Woman 1984\n",
      "2020\n",
      "++++++++++++++++++++++++++++++++++++++\n",
      "21 Jump Street: Season 3(1988)\n",
      "Wonder Woman 1984\n",
      "2020\n",
      "++++++++++++++++++++++++++++++++++++++\n",
      "Saved by the Bell: Season 2(1989)\n",
      "Wonder Woman 1984\n",
      "2020\n",
      "++++++++++++++++++++++++++++++++++++++\n",
      "Luther Vandross: Live at Wembley(1988)\n",
      "Wonder Woman 1984\n",
      "2020\n",
      "++++++++++++++++++++++++++++++++++++++\n",
      "Watchers / Watchers II: Double Feature(1988)\n",
      "Wonder Woman 1984\n",
      "2020\n",
      "++++++++++++++++++++++++++++++++++++++\n",
      "Transformers: Season 2: Part I(1985)\n",
      "Wonder Woman 1984\n",
      "2020\n",
      "++++++++++++++++++++++++++++++++++++++\n",
      "Jem & The Holograms: Season 3: Part 1(1987)\n",
      "Wonder Woman 1984\n",
      "2020\n",
      "++++++++++++++++++++++++++++++++++++++\n",
      "Jimmy Doolittle: An American Hero(1988)\n",
      "Wonder Woman 1984\n",
      "2020\n",
      "++++++++++++++++++++++++++++++++++++++\n",
      "Star Trek III: The Search for Spock: Bonus Material(1984)\n",
      "Wonder Woman 1984\n",
      "2020\n",
      "++++++++++++++++++++++++++++++++++++++\n",
      "Care Bears: Magical Adventures(1988)\n",
      "Wonder Woman 1984\n",
      "2020\n",
      "++++++++++++++++++++++++++++++++++++++\n",
      "Thundercats: Season 1: Vol. 1(1985)\n",
      "Wonder Woman 1984\n",
      "2020\n",
      "++++++++++++++++++++++++++++++++++++++\n",
      "Tibet: Windham Hill(1988)\n",
      "Wonder Woman 1984\n",
      "2020\n",
      "++++++++++++++++++++++++++++++++++++++\n",
      "Le Nozze di Figaro: Mozart: Drottningholm Court Theatre(1981)\n",
      "Wonder Woman 1984\n",
      "2020\n",
      "++++++++++++++++++++++++++++++++++++++\n",
      "Tommy & Tuppence: Partners in Crime: Set 1(1980)\n",
      "Wonder Woman 1984\n",
      "2020\n",
      "++++++++++++++++++++++++++++++++++++++\n",
      "Unsolved Mysteries: Strange Legends(1987)\n",
      "Wonder Woman 1984\n",
      "2020\n",
      "++++++++++++++++++++++++++++++++++++++\n",
      "The Hitchhiker's Guide to the Galaxy: Bonus Material(1981)\n",
      "Wonder Woman 1984\n",
      "2020\n",
      "++++++++++++++++++++++++++++++++++++++\n",
      "The Navigator: A Time Travel Adventure(1988)\n",
      "Wonder Woman 1984\n",
      "2020\n",
      "++++++++++++++++++++++++++++++++++++++\n",
      "Buddy Rich: The Lost West Side Story Tapes(1985)\n",
      "Wonder Woman 1984\n",
      "2020\n",
      "++++++++++++++++++++++++++++++++++++++\n",
      "Sandbaggers: Collection 2(1980)\n",
      "Wonder Woman 1984\n",
      "2020\n",
      "++++++++++++++++++++++++++++++++++++++\n",
      "Karajan/Mutter: Vivaldi: Four Seasons(1987)\n",
      "Wonder Woman 1984\n",
      "2020\n",
      "++++++++++++++++++++++++++++++++++++++\n",
      "Growing up with Winnie the Pooh: Friends Forever(1988)\n",
      "Wonder Woman 1984\n",
      "2020\n",
      "++++++++++++++++++++++++++++++++++++++\n",
      "21 Jump Street: Season 1(1987)\n",
      "Wonder Woman 1984\n",
      "2020\n",
      "++++++++++++++++++++++++++++++++++++++\n",
      "Quantum Leap: Season 2(1989)\n",
      "Wonder Woman 1984\n",
      "2020\n",
      "++++++++++++++++++++++++++++++++++++++\n",
      "The Golden Girls: Season 2(1986)\n",
      "Wonder Woman 1984\n",
      "2020\n",
      "++++++++++++++++++++++++++++++++++++++\n",
      "Sledge Hammer!: Season 1(1986)\n",
      "Wonder Woman 1984\n",
      "2020\n",
      "++++++++++++++++++++++++++++++++++++++\n",
      "French & Saunders: The Ingenue Years(1987)\n",
      "Wonder Woman 1984\n",
      "2020\n",
      "++++++++++++++++++++++++++++++++++++++\n",
      "Dragon Ball Z: Imperfect Cell Saga(1989)\n",
      "Wonder Woman 1984\n",
      "2020\n",
      "++++++++++++++++++++++++++++++++++++++\n",
      "Another State of Mind: Social Distortion, Youth Brigade and Minor Threat(1984)\n",
      "Wonder Woman 1984\n",
      "2020\n",
      "++++++++++++++++++++++++++++++++++++++\n",
      "Aliens: Collector's Edition: Bonus Material(1986)\n",
      "Wonder Woman 1984\n",
      "2020\n",
      "++++++++++++++++++++++++++++++++++++++\n",
      "Quantum Leap: Season 1(1989)\n",
      "Wonder Woman 1984\n",
      "2020\n",
      "++++++++++++++++++++++++++++++++++++++\n",
      "Down by Law: Bonus Material(1986)\n",
      "Wonder Woman 1984\n",
      "2020\n",
      "++++++++++++++++++++++++++++++++++++++\n",
      "A Room with a View: Special Edition(1986)\n",
      "Wonder Woman 1984\n",
      "2020\n",
      "++++++++++++++++++++++++++++++++++++++\n",
      "G.I. Joe: Season 2: Part 1(1986)\n",
      "Wonder Woman 1984\n",
      "2020\n",
      "++++++++++++++++++++++++++++++++++++++\n",
      "Rambo III: Ultimate Edition(1988)\n",
      "Wonder Woman 1984\n",
      "2020\n",
      "++++++++++++++++++++++++++++++++++++++\n",
      "Red Dwarf: Series 1: Bonus Material(1988)\n",
      "Wonder Woman 1984\n",
      "2020\n",
      "++++++++++++++++++++++++++++++++++++++\n",
      "A Room With a View: Special Edition: Bonus Material(1986)\n",
      "Wonder Woman 1984\n",
      "2020\n",
      "++++++++++++++++++++++++++++++++++++++\n",
      "G.I. Joe: Season 1: Part 2(1985)\n",
      "Wonder Woman 1984\n",
      "2020\n",
      "++++++++++++++++++++++++++++++++++++++\n",
      "Breaker Morant: Masterworks Edition(1980)\n",
      "Wonder Woman 1984\n",
      "2020\n",
      "++++++++++++++++++++++++++++++++++++++\n",
      "Care Bears: Kingdom of Caring(1984)\n",
      "Wonder Woman 1984\n",
      "2020\n",
      "++++++++++++++++++++++++++++++++++++++\n",
      "Mapp and Lucia: Series 1(1985)\n",
      "Wonder Woman 1984\n",
      "2020\n",
      "++++++++++++++++++++++++++++++++++++++\n",
      "Revenge of the Nerds / Revenge of the Nerds 2: Double Feature(1984)\n",
      "Wonder Woman 1984\n",
      "2020\n",
      "++++++++++++++++++++++++++++++++++++++\n",
      "The Twilight Zone: The 80s: Season 1(1985)\n",
      "Wonder Woman 1984\n",
      "2020\n",
      "++++++++++++++++++++++++++++++++++++++\n",
      "Dragon Ball: King Piccolo Saga: Part 2(1986)\n",
      "Wonder Woman 1984\n",
      "2020\n",
      "++++++++++++++++++++++++++++++++++++++\n",
      "Star Trek IV: The Voyage Home: Bonus Material(1986)\n",
      "Wonder Woman 1984\n",
      "2020\n",
      "++++++++++++++++++++++++++++++++++++++\n",
      "Karajan / Mutter: Beethoven: Violin Concert(1984)\n",
      "Wonder Woman 1984\n",
      "2020\n",
      "++++++++++++++++++++++++++++++++++++++\n",
      "Night Court: Season 1(1984)\n",
      "Wonder Woman 1984\n",
      "2020\n",
      "++++++++++++++++++++++++++++++++++++++\n",
      "Legend: Bonus Material(1986)\n",
      "Wonder Woman 1984\n",
      "2020\n",
      "++++++++++++++++++++++++++++++++++++++\n",
      "The Karate Kid Part III / The Next Karate Kid(1989)\n",
      "Wonder Woman 1984\n",
      "2020\n",
      "++++++++++++++++++++++++++++++++++++++\n",
      "'Allo 'Allo!: Series 3(1986)\n",
      "Wonder Woman 1984\n",
      "2020\n",
      "++++++++++++++++++++++++++++++++++++++\n",
      "The Beach Boys: Good Timin': Live at Knebworth(1980)\n",
      "Wonder Woman 1984\n",
      "2020\n",
      "++++++++++++++++++++++++++++++++++++++\n",
      "Patlabor: The Mobile Police: The TV Series(1989)\n",
      "Wonder Woman 1984\n",
      "2020\n",
      "++++++++++++++++++++++++++++++++++++++\n",
      "Highway to Heaven: Season 1(1984)\n",
      "Wonder Woman 1984\n",
      "2020\n",
      "++++++++++++++++++++++++++++++++++++++\n",
      "Dario Argento Collection: Vol. 1: Inferno(1980)\n",
      "Wonder Woman 1984\n",
      "2020\n",
      "++++++++++++++++++++++++++++++++++++++\n",
      "Murphy Brown: Season 1(1988)\n",
      "Wonder Woman 1984\n",
      "2020\n",
      "++++++++++++++++++++++++++++++++++++++\n",
      "Red Dwarf: Series 4: Bonus Material(1988)\n",
      "Wonder Woman 1984\n",
      "2020\n",
      "++++++++++++++++++++++++++++++++++++++\n",
      "Coal Miner's Daughter: Collector's Edition(1980)\n",
      "Wonder Woman 1984\n",
      "2020\n",
      "++++++++++++++++++++++++++++++++++++++\n",
      "MacGyver: Season 2(1986)\n",
      "Wonder Woman 1984\n",
      "2020\n",
      "++++++++++++++++++++++++++++++++++++++\n",
      "Degrassi Junior High: Season 2(1988)\n",
      "Wonder Woman 1984\n",
      "2020\n",
      "++++++++++++++++++++++++++++++++++++++\n",
      "'Allo 'Allo!: Series 1(1984)\n",
      "Wonder Woman 1984\n",
      "2020\n",
      "++++++++++++++++++++++++++++++++++++++\n",
      "Dragon Ball: King Piccolo Saga: Part 1(1986)\n",
      "Wonder Woman 1984\n",
      "2020\n",
      "++++++++++++++++++++++++++++++++++++++\n",
      "SCTV Network 90: Vol. 1(1981)\n",
      "Wonder Woman 1984\n",
      "2020\n",
      "++++++++++++++++++++++++++++++++++++++\n",
      "Highway to Heaven: Season 2(1985)\n",
      "Wonder Woman 1984\n",
      "2020\n",
      "++++++++++++++++++++++++++++++++++++++\n",
      "Hello Kitty Becomes a Princess(1987)\n",
      "Wonder Woman 1984\n",
      "2020\n",
      "++++++++++++++++++++++++++++++++++++++\n",
      "Lee Ritenour & Friends: Live from the Coconut Grove: Vols. 1 & 2(1980)\n",
      "Wonder Woman 1984\n",
      "2020\n",
      "++++++++++++++++++++++++++++++++++++++\n",
      "Hello Kitty Saves the Day(1987)\n",
      "Wonder Woman 1984\n",
      "2020\n",
      "++++++++++++++++++++++++++++++++++++++\n",
      "Star Trek V: The Final Frontier: Bonus Material(1989)\n",
      "Wonder Woman 1984\n",
      "2020\n",
      "++++++++++++++++++++++++++++++++++++++\n",
      "Seinfeld: Seasons 1 & 2(1989)\n",
      "Wonder Woman 1984\n",
      "2020\n",
      "++++++++++++++++++++++++++++++++++++++\n",
      "Charles Bronson: Cabo Blanco / U.S. Marshall(1980)\n",
      "Wonder Woman 1984\n",
      "2020\n",
      "++++++++++++++++++++++++++++++++++++++\n",
      "Unsolved Mysteries: Miracles(1987)\n",
      "Wonder Woman 1984\n",
      "2020\n",
      "++++++++++++++++++++++++++++++++++++++\n",
      "My Left Foot: Special Edition(1989)\n",
      "Wonder Woman 1984\n",
      "2020\n",
      "++++++++++++++++++++++++++++++++++++++\n",
      "Dario Argento Collection: Vol. 2: Demons(1985)\n",
      "Wonder Woman 1984\n",
      "2020\n",
      "++++++++++++++++++++++++++++++++++++++\n",
      "Moonlighting: Seasons 1 & 2(1985)\n",
      "Wonder Woman 1984\n",
      "2020\n",
      "++++++++++++++++++++++++++++++++++++++\n",
      "Tommy & Tuppence: Partners in Crime: Set 2(1980)\n",
      "Wonder Woman 1984\n",
      "2020\n",
      "++++++++++++++++++++++++++++++++++++++\n",
      "The Color Purple: Bonus Material(1985)\n",
      "Wonder Woman 1984\n",
      "2020\n",
      "++++++++++++++++++++++++++++++++++++++\n",
      "Die Hard: Bonus Material(1988)\n",
      "Wonder Woman 1984\n",
      "2020\n",
      "++++++++++++++++++++++++++++++++++++++\n",
      "True Stories: Talking Heads(1986)\n",
      "Wonder Woman 1984\n",
      "2020\n",
      "++++++++++++++++++++++++++++++++++++++\n",
      "Degrassi Junior High: Season 1(1986)\n",
      "Wonder Woman 1984\n",
      "2020\n",
      "++++++++++++++++++++++++++++++++++++++\n",
      "Wiseguy: Between the Mob and a Hard Place(1989)\n",
      "Wonder Woman 1984\n",
      "2020\n",
      "++++++++++++++++++++++++++++++++++++++\n",
      "Unsolved Mysteries: Bizarre Murders(1987)\n",
      "Wonder Woman 1984\n",
      "2020\n",
      "++++++++++++++++++++++++++++++++++++++\n",
      "Red Dwarf: Series 3: Bonus Material(1988)\n",
      "Wonder Woman 1984\n",
      "2020\n",
      "++++++++++++++++++++++++++++++++++++++\n",
      "Ghoulies / Ghoulies II: Double Feature(1985)\n",
      "Wonder Woman 1984\n",
      "2020\n",
      "++++++++++++++++++++++++++++++++++++++\n",
      "Mysteries of the Deep: Legendary Shipwrecks: Secrets of the Titanic(1986)\n",
      "Wonder Woman 1984\n",
      "2020\n",
      "++++++++++++++++++++++++++++++++++++++\n",
      "Frank Zappa: Does Humor Belong in Music?(1985)\n",
      "Wonder Woman 1984\n",
      "2020\n",
      "++++++++++++++++++++++++++++++++++++++\n"
     ]
    }
   ],
   "source": [
    "for x in netflix_movies_info_concatkey_to_full_info['wonder woman 19842020patty jenkins']:\n",
    "    print(x['filmname_given'])\n",
    "    print(x['title'])\n",
    "    print(x['year'])\n",
    "    print(\"++++++++++++++++++++++++++++++++++++++\")"
   ]
  },
  {
   "cell_type": "code",
   "execution_count": 37,
   "metadata": {},
   "outputs": [
    {
     "data": {
      "text/plain": [
       "15173"
      ]
     },
     "execution_count": 37,
     "metadata": {},
     "output_type": "execute_result"
    }
   ],
   "source": [
    "len(netflix_movies_info_concatkey_to_full_info)"
   ]
  },
  {
   "cell_type": "code",
   "execution_count": null,
   "metadata": {},
   "outputs": [],
   "source": [
    "list(filter(lambda x: not x['title'],netflix_movies_info))"
   ]
  },
  {
   "cell_type": "code",
   "execution_count": 49,
   "metadata": {},
   "outputs": [
    {
     "name": "stdout",
     "output_type": "stream",
     "text": [
      "Collecting fuzzywuzzy\n",
      "  Downloading fuzzywuzzy-0.18.0-py2.py3-none-any.whl (18 kB)\n",
      "Installing collected packages: fuzzywuzzy\n",
      "Successfully installed fuzzywuzzy-0.18.0\n"
     ]
    }
   ],
   "source": [
    "!pip install fuzzywuzzy\n"
   ]
  },
  {
   "cell_type": "code",
   "execution_count": 54,
   "metadata": {},
   "outputs": [
    {
     "name": "stdout",
     "output_type": "stream",
     "text": [
      "Collecting python-Levenshtein\n",
      "  Downloading python-Levenshtein-0.12.0.tar.gz (48 kB)\n",
      "\u001b[K     |████████████████████████████████| 48 kB 307 kB/s eta 0:00:01\n",
      "\u001b[?25hRequirement already satisfied: setuptools in /home/max/anaconda3/envs/recommenders_env/lib/python3.7/site-packages (from python-Levenshtein) (49.6.0.post20200925)\n",
      "Building wheels for collected packages: python-Levenshtein\n",
      "  Building wheel for python-Levenshtein (setup.py) ... \u001b[?25ldone\n",
      "\u001b[?25h  Created wheel for python-Levenshtein: filename=python_Levenshtein-0.12.0-cp37-cp37m-linux_x86_64.whl size=177838 sha256=0b0df1f14a65ce014be582e726258a7f00f972c6f35379995bdc37c8411777bf\n",
      "  Stored in directory: /home/max/.cache/pip/wheels/f0/9b/13/49c281164c37be18343230d3cd0fca29efb23a493351db0009\n",
      "Successfully built python-Levenshtein\n",
      "Installing collected packages: python-Levenshtein\n",
      "Successfully installed python-Levenshtein-0.12.0\n"
     ]
    }
   ],
   "source": [
    "!pip install python-Levenshtein"
   ]
  },
  {
   "cell_type": "code",
   "execution_count": 55,
   "metadata": {},
   "outputs": [],
   "source": [
    "from fuzzywuzzy import fuzz"
   ]
  },
  {
   "cell_type": "code",
   "execution_count": 56,
   "metadata": {},
   "outputs": [
    {
     "data": {
      "text/plain": [
       "97"
      ]
     },
     "execution_count": 56,
     "metadata": {},
     "output_type": "execute_result"
    }
   ],
   "source": [
    "fuzz.token_set_ratio('Room, 2 Double Beds (19th to 25th Floors)', 'Two Double Beds - Location Room (19th to 25th Floors)')"
   ]
  },
  {
   "cell_type": "code",
   "execution_count": 69,
   "metadata": {},
   "outputs": [
    {
     "data": {
      "text/plain": [
       "59"
      ]
     },
     "execution_count": 69,
     "metadata": {},
     "output_type": "execute_result"
    }
   ],
   "source": [
    "fuzz.token_set_ratio('Sherlock: Case of Evil(2002)', 'Sherlock Hound(1984)')"
   ]
  },
  {
   "cell_type": "code",
   "execution_count": 66,
   "metadata": {},
   "outputs": [
    {
     "data": {
      "text/plain": [
       "{'filmname_given': 'Dinosaur Planet(2003)',\n",
       " 'film_id': 1,\n",
       " 'title': 'Dinosaur Planet',\n",
       " 'year': 2003,\n",
       " 'cast': ['Christian Slater', 'Scott Sampson'],\n",
       " 'genres': ['Documentary', 'Animation', 'Family'],\n",
       " 'director': ['Pierre de Lespinois'],\n",
       " 'plot': ['A four-episode animated series charting the adventures of four dinosaurs - each on a different continent in the prehistoric world: a lone female Velociraptor in Asia; a young male Daspletosaurus in North America; a South American female Saltasaur; and a young adult Pyroraptor in Europe. Narrated by Christian Slater and hosted by paleontologist Scott Sampson.::Anonymous'],\n",
       " 'concated_for_matching': 'dinosaur planet2003pierre de lespinois'}"
      ]
     },
     "execution_count": 66,
     "metadata": {},
     "output_type": "execute_result"
    }
   ],
   "source": [
    "netflix_movies_info[0]"
   ]
  },
  {
   "cell_type": "code",
   "execution_count": 95,
   "metadata": {},
   "outputs": [],
   "source": [
    "sherlock_movies = []\n",
    "\n",
    "for doc in netflix_movies_info:\n",
    "    if \"Batman\" in doc[\"filmname_given\"]:\n",
    "        sherlock_movies.append(doc[\"filmname_given\"])\n",
    "        \n",
    "for doc in ml100k_movies_info:\n",
    "    if \"Batman\" in doc[\"filmname_given\"]:\n",
    "        sherlock_movies.append(doc[\"filmname_given\"])\n",
    "        \n"
   ]
  },
  {
   "cell_type": "code",
   "execution_count": 96,
   "metadata": {},
   "outputs": [
    {
     "data": {
      "text/plain": [
       "['Batman the Animated Series: Vol. 3(1993)',\n",
       " 'Batman Beyond: Tech Wars / Disappearing Inque(1999)',\n",
       " 'Scooby-Doo Meets Batman(1972)',\n",
       " 'Batman: The Animated Series: Tales of the Dark Knight(1992)',\n",
       " 'Batman Beyond: Return of the Joker(2000)',\n",
       " 'Batman Beyond: The Movie(1999)',\n",
       " 'Batman: Mask of the Phantasm(1993)',\n",
       " 'Batman Begins(2005)',\n",
       " 'Batman: The Animated Series: Out of the Shadows(1992)',\n",
       " 'Batman Begins: Bonus Material(2005)',\n",
       " 'Batman: Holy Batmania(2004)',\n",
       " 'Batman & Mr. Freeze: Subzero(1998)',\n",
       " 'Batman: The 1943 Serial Collection(1943)',\n",
       " 'Batman the Animated Series: Vol. 1(1992)',\n",
       " 'Adventures of Batman & Robin: Poison Ivy/The Penguin(1992)',\n",
       " 'Batman Returns(1992)',\n",
       " 'The Batman: Season 1(2004)',\n",
       " 'Adventures of Batman & Robin: The Joker/Fire & Ice(1992)',\n",
       " 'Batman: Mystery of the Batwoman(2003)',\n",
       " 'Batman: The Animated Series: The Legend Begins(1992)',\n",
       " 'Batman & Robin(1997)',\n",
       " 'The Batman Superman Movie(1998)',\n",
       " 'Batman vs. Dracula(2005)',\n",
       " 'Batman the Animated Series: Secrets of the Caped Crusader(1992)',\n",
       " 'Batman the Animated Series: Vol. 2(1992)',\n",
       " 'Batman Beyond: School Dayz / Spellbound(1999)',\n",
       " 'Batman Forever(1995)',\n",
       " 'Batman(1989)',\n",
       " 'Batman: The Movie(1966)',\n",
       " 'Batman and Robin: The Serial Collection(1949)',\n",
       " 'Batman Forever (1995)',\n",
       " 'Batman Returns (1992)',\n",
       " 'Batman & Robin (1997)',\n",
       " 'Batman (1989)']"
      ]
     },
     "execution_count": 96,
     "metadata": {},
     "output_type": "execute_result"
    }
   ],
   "source": [
    "sherlock_movies"
   ]
  },
  {
   "cell_type": "code",
   "execution_count": 102,
   "metadata": {},
   "outputs": [
    {
     "name": "stderr",
     "output_type": "stream",
     "text": [
      "100%|██████████| 1682/1682 [40:04<00:00,  1.43s/it]\n"
     ]
    },
    {
     "ename": "TypeError",
     "evalue": "to_pickle() missing 1 required positional argument: 'filepath_or_buffer'",
     "output_type": "error",
     "traceback": [
      "\u001b[0;31m---------------------------------------------------------------------------\u001b[0m",
      "\u001b[0;31mTypeError\u001b[0m                                 Traceback (most recent call last)",
      "\u001b[0;32m<ipython-input-102-8565e81f59f1>\u001b[0m in \u001b[0;36m<module>\u001b[0;34m\u001b[0m\n\u001b[1;32m      7\u001b[0m     \u001b[0mmatched_pairs\u001b[0m\u001b[0;34m.\u001b[0m\u001b[0mappend\u001b[0m\u001b[0;34m(\u001b[0m\u001b[0mcur_matched\u001b[0m\u001b[0;34m)\u001b[0m\u001b[0;34m\u001b[0m\u001b[0;34m\u001b[0m\u001b[0m\n\u001b[1;32m      8\u001b[0m \u001b[0;31m#frat element is ml100k movie\u001b[0m\u001b[0;34m\u001b[0m\u001b[0;34m\u001b[0m\u001b[0;34m\u001b[0m\u001b[0m\n\u001b[0;32m----> 9\u001b[0;31m \u001b[0mpd\u001b[0m\u001b[0;34m.\u001b[0m\u001b[0mto_pickle\u001b[0m\u001b[0;34m(\u001b[0m\u001b[0;34m\"ml100k_to_netflix_matched.pkl\"\u001b[0m\u001b[0;34m)\u001b[0m\u001b[0;34m\u001b[0m\u001b[0;34m\u001b[0m\u001b[0m\n\u001b[0m\u001b[1;32m     10\u001b[0m \u001b[0;34m\u001b[0m\u001b[0m\n",
      "\u001b[0;31mTypeError\u001b[0m: to_pickle() missing 1 required positional argument: 'filepath_or_buffer'"
     ]
    }
   ],
   "source": [
    "matched_pairs = []\n",
    "for m1 in tqdm(ml100k_movies_info):\n",
    "    cur_matched = [m1]\n",
    "    for m2 in netflix_movies_info:\n",
    "        if fuzz.token_set_ratio(m1[\"filmname_given\"], m2[\"filmname_given\"]) > 90:\n",
    "            cur_matched.append(m2)\n",
    "    matched_pairs.append(cur_matched)\n",
    "#first element is ml100k movie\n",
    "pd.to_pickle(\"ml100k_to_netflix_matched.pkl\")\n",
    "            "
   ]
  },
  {
   "cell_type": "code",
   "execution_count": 103,
   "metadata": {},
   "outputs": [],
   "source": [
    "pd.to_pickle(matched_pairs,\"ml100k_to_netflix_matched.pkl\")"
   ]
  },
  {
   "cell_type": "code",
   "execution_count": 6,
   "metadata": {},
   "outputs": [],
   "source": [
    "matched_pairs = pd.read_pickle(\"ml100k_to_netflix_matched.pkl\")"
   ]
  },
  {
   "cell_type": "code",
   "execution_count": 7,
   "metadata": {},
   "outputs": [
    {
     "data": {
      "text/plain": [
       "1682"
      ]
     },
     "execution_count": 7,
     "metadata": {},
     "output_type": "execute_result"
    }
   ],
   "source": [
    "len(matched_pairs)"
   ]
  },
  {
   "cell_type": "code",
   "execution_count": 105,
   "metadata": {},
   "outputs": [
    {
     "data": {
      "text/plain": [
       "1682"
      ]
     },
     "execution_count": 105,
     "metadata": {},
     "output_type": "execute_result"
    }
   ],
   "source": [
    "len(ml100k_movies_info)"
   ]
  },
  {
   "cell_type": "code",
   "execution_count": 110,
   "metadata": {},
   "outputs": [
    {
     "data": {
      "text/plain": [
       "0.20035671819262782"
      ]
     },
     "execution_count": 110,
     "metadata": {},
     "output_type": "execute_result"
    }
   ],
   "source": [
    "337 / 1682"
   ]
  },
  {
   "cell_type": "code",
   "execution_count": 10,
   "metadata": {},
   "outputs": [
    {
     "data": {
      "text/plain": [
       "Counter({2: 1169, 1: 337, 3: 149, 4: 18, 5: 4, 7: 1, 10: 1, 6: 2, 8: 1})"
      ]
     },
     "execution_count": 10,
     "metadata": {},
     "output_type": "execute_result"
    }
   ],
   "source": [
    "from collections import Counter\n",
    "Counter(len(x) for x in matched_pairs)"
   ]
  },
  {
   "cell_type": "code",
   "execution_count": 12,
   "metadata": {},
   "outputs": [
    {
     "data": {
      "text/plain": [
       "3251"
      ]
     },
     "execution_count": 12,
     "metadata": {},
     "output_type": "execute_result"
    }
   ],
   "source": [
    "s = 0\n",
    "for k,v in Counter(len(x) for x in matched_pairs).items():\n",
    "    s += k * v\n",
    "s"
   ]
  },
  {
   "cell_type": "code",
   "execution_count": 111,
   "metadata": {},
   "outputs": [
    {
     "data": {
      "text/plain": [
       "[2, 3]"
      ]
     },
     "execution_count": 111,
     "metadata": {},
     "output_type": "execute_result"
    }
   ],
   "source": [
    "[1,2,3][1:]"
   ]
  },
  {
   "cell_type": "code",
   "execution_count": 137,
   "metadata": {},
   "outputs": [
    {
     "name": "stderr",
     "output_type": "stream",
     "text": [
      "100%|██████████| 1682/1682 [00:00<00:00, 25283.92it/s]\n"
     ]
    }
   ],
   "source": [
    "unmatched_pairs = []\n",
    "\n",
    "for doc in tqdm(matched_pairs):\n",
    "    if len(doc) > 2:\n",
    "        main_pair = [doc[0], doc[1], fuzz.token_set_ratio(doc[0][\"filmname_given\"], doc[1][\"filmname_given\"])]\n",
    "        for potential_match in doc[1:]:\n",
    "            cur_fuz_score = fuzz.token_set_ratio(doc[0][\"filmname_given\"], potential_match[\"filmname_given\"])\n",
    "            if cur_fuz_score > main_pair[2]:\n",
    "                main_pair = [doc[0], potential_match, cur_fuz_score]\n",
    "        unmatched_pairs.append([main_pair[0], main_pair[1]])\n",
    "        for x in doc[1:]:\n",
    "            if x != main_pair[1]:\n",
    "                unmatched_pairs.append([x])"
   ]
  },
  {
   "cell_type": "code",
   "execution_count": 138,
   "metadata": {},
   "outputs": [
    {
     "data": {
      "text/plain": [
       "400"
      ]
     },
     "execution_count": 138,
     "metadata": {},
     "output_type": "execute_result"
    }
   ],
   "source": [
    "len(unmatched_pairs)"
   ]
  },
  {
   "cell_type": "code",
   "execution_count": 126,
   "metadata": {},
   "outputs": [],
   "source": []
  },
  {
   "cell_type": "code",
   "execution_count": 123,
   "metadata": {},
   "outputs": [
    {
     "data": {
      "text/plain": [
       "Counter({3: 176, 1: 224})"
      ]
     },
     "execution_count": 123,
     "metadata": {},
     "output_type": "execute_result"
    }
   ],
   "source": [
    "Counter(len(x) for x in unmatched_pairs)"
   ]
  },
  {
   "cell_type": "code",
   "execution_count": 140,
   "metadata": {},
   "outputs": [],
   "source": [
    "unmatched_unique_to_delete = []\n",
    "for lst in unmatched_pairs:\n",
    "    unmatched_unique_to_delete += lst"
   ]
  },
  {
   "cell_type": "code",
   "execution_count": 142,
   "metadata": {},
   "outputs": [
    {
     "data": {
      "text/plain": [
       "Counter({9: 576})"
      ]
     },
     "execution_count": 142,
     "metadata": {},
     "output_type": "execute_result"
    }
   ],
   "source": [
    "Counter(len(x) for x in unmatched_unique_to_delete)"
   ]
  },
  {
   "cell_type": "code",
   "execution_count": 145,
   "metadata": {},
   "outputs": [],
   "source": [
    "matched_pairs_new = list(filter(lambda x: len(x) <= 2, matched_pairs))"
   ]
  },
  {
   "cell_type": "code",
   "execution_count": 146,
   "metadata": {},
   "outputs": [
    {
     "data": {
      "text/plain": [
       "1506"
      ]
     },
     "execution_count": 146,
     "metadata": {},
     "output_type": "execute_result"
    }
   ],
   "source": [
    "len(matched_pairs_new)"
   ]
  },
  {
   "cell_type": "code",
   "execution_count": 148,
   "metadata": {},
   "outputs": [],
   "source": [
    "matched_pairs_new += unmatched_pairs"
   ]
  },
  {
   "cell_type": "code",
   "execution_count": 149,
   "metadata": {},
   "outputs": [],
   "source": [
    "pd.to_pickle(matched_pairs_new, \"matched_pairs_new.pkl\")"
   ]
  },
  {
   "cell_type": "code",
   "execution_count": 2,
   "metadata": {},
   "outputs": [],
   "source": [
    "import pandas as pd\n",
    "matched_pairs_new = pd.read_pickle(\"matched_pairs_new.pkl\")"
   ]
  },
  {
   "cell_type": "code",
   "execution_count": 3,
   "metadata": {},
   "outputs": [
    {
     "data": {
      "text/plain": [
       "1906"
      ]
     },
     "execution_count": 3,
     "metadata": {},
     "output_type": "execute_result"
    }
   ],
   "source": [
    "len(matched_pairs_new)"
   ]
  },
  {
   "cell_type": "code",
   "execution_count": 5,
   "metadata": {},
   "outputs": [
    {
     "data": {
      "text/plain": [
       "[{'filmname_given': 'Toy Story (1995)',\n",
       "  'film_id': 1,\n",
       "  'title': 'Toy Story',\n",
       "  'year': 1995,\n",
       "  'cast': ['Tom Hanks',\n",
       "   'Tim Allen',\n",
       "   'Don Rickles',\n",
       "   'Jim Varney',\n",
       "   'Wallace Shawn',\n",
       "   'John Ratzenberger',\n",
       "   'Annie Potts',\n",
       "   'John Morris',\n",
       "   'Erik von Detten',\n",
       "   'Laurie Metcalf',\n",
       "   'R. Lee Ermey',\n",
       "   'Sarah Freeman',\n",
       "   'Penn Jillette',\n",
       "   'Jack Angel',\n",
       "   'Spencer Aste',\n",
       "   'Greg Berg',\n",
       "   'Lisa Bradley',\n",
       "   'Kendall Cunningham',\n",
       "   'Debi Derryberry',\n",
       "   'Cody Dorkin',\n",
       "   'Bill Farmer',\n",
       "   'Craig Good',\n",
       "   'Gregory Grudt',\n",
       "   'Danielle Judovits',\n",
       "   'Sam Lasseter',\n",
       "   'Brittany Levenbrown',\n",
       "   'Sherry Lynn',\n",
       "   'Scott McAfee',\n",
       "   'Mickie McGowan',\n",
       "   \"Ryan O'Donohue\",\n",
       "   'Jeff Pidgeon',\n",
       "   'Patrick Pinney',\n",
       "   'Phil Proctor',\n",
       "   'Jan Rabson',\n",
       "   'Joe Ranft',\n",
       "   'Andrew Stanton',\n",
       "   'Shane Sweet',\n",
       "   'Anthony Burch',\n",
       "   'Nenad Cvetko',\n",
       "   'Pat Fry',\n",
       "   'Carole Jeghers',\n",
       "   'Nathan Lane',\n",
       "   'John Lasseter',\n",
       "   'Branko Menicanin',\n",
       "   'Kresimir Mikic',\n",
       "   'Luka Peros',\n",
       "   'Ernie Sabella',\n",
       "   'Ranko Zidaric'],\n",
       "  'genres': ['Animation', 'Adventure', 'Comedy', 'Family', 'Fantasy'],\n",
       "  'director': ['John Lasseter'],\n",
       "  'plot': [\"A cowboy doll is profoundly threatened and jealous when a new spaceman figure supplants him as top toy in a boy's room.::Kenneth Chisholm\",\n",
       "   'A little boy named Andy loves to be in his room, playing with his toys, especially his doll named \"Woody\". But, what do the toys do when Andy is not with them, they come to life. Woody believes that his life (as a toy) is good. However, he must worry about Andy\\'s family moving, and what Woody does not know is about Andy\\'s birthday party. Woody does not realize that Andy\\'s mother gave him an action figure known as Buzz Lightyear, who does not believe that he is a toy, and quickly becomes Andy\\'s new favorite toy. Woody, who is now consumed with jealousy, tries to get rid of Buzz. Then, both Woody and Buzz are now lost. They must find a way to get back to Andy before he moves without them, but they will have to pass through a ruthless toy killer, Sid Phillips.::John Wiggins',\n",
       "   \"Woody, a good-hearted cowboy doll who belongs to a young boy named Andy, sees his position as Andy's favorite toy jeopardized when his mom buys him a Buzz Lightyear action figure. Even worse, the arrogant Buzz thinks he's a real spaceman on a mission to return to his home planet. When Andy's family moves to a new house, Woody and Buzz must escape the clutches of maladjusted neighbor Sid Phillips and reunite with their boy.::Jwelch5742\",\n",
       "   \"Toy Story is about the 'secret life of toys' when people are not around. When Buzz Lightyear, a space-ranger, takes Woody's place as Andy's favorite toy, Woody doesn't like the situation and gets into a fight with Buzz. Accidentaly Buzz falls out the window and Woody is accused by all the other toys of having killed him. He has to go out of the house to look for him so that they can both return to Andys room. But while on the outside they get into all kind of trouble while trying to get home.::Marcos Eduardo Acosta Aldrete\",\n",
       "   'Imagination runs rampant when toys become mobile when not watched. Two toys, Woody and Buzz Lightyear despise each other like no other. But, when the toys are separated from their home, a truce is formed between them all in an effort to journey home.::Joshua Davis <xtnb64a@prodigy.com>',\n",
       "   \"A toy named Woody has it all. He is practically the leader in Andy's toy room, Bo Peep has the hots for him, and most importantly, he is Andy's favorite toy. But when the clocks strike Andy's birthday, a new toy arrives. Buzz Lightyear, a space cadet who thinks he is a space ranger, (not a toy in a room) instantly wins over Andy, thus becoming Andy's new treasure. But when Woody is accused of knocking Buzz out of the window, he must go into the world and find Buzz, with many delays...::neo101\"],\n",
       "  'concated_for_matching': 'toy story1995john lasseter'},\n",
       " {'filmname_given': 'Toy Story(1995)',\n",
       "  'film_id': 13673,\n",
       "  'title': 'Toy Story',\n",
       "  'year': 1995,\n",
       "  'cast': ['Tom Hanks',\n",
       "   'Tim Allen',\n",
       "   'Don Rickles',\n",
       "   'Jim Varney',\n",
       "   'Wallace Shawn',\n",
       "   'John Ratzenberger',\n",
       "   'Annie Potts',\n",
       "   'John Morris',\n",
       "   'Erik von Detten',\n",
       "   'Laurie Metcalf',\n",
       "   'R. Lee Ermey',\n",
       "   'Sarah Freeman',\n",
       "   'Penn Jillette',\n",
       "   'Jack Angel',\n",
       "   'Spencer Aste',\n",
       "   'Greg Berg',\n",
       "   'Lisa Bradley',\n",
       "   'Kendall Cunningham',\n",
       "   'Debi Derryberry',\n",
       "   'Cody Dorkin',\n",
       "   'Bill Farmer',\n",
       "   'Craig Good',\n",
       "   'Gregory Grudt',\n",
       "   'Danielle Judovits',\n",
       "   'Sam Lasseter',\n",
       "   'Brittany Levenbrown',\n",
       "   'Sherry Lynn',\n",
       "   'Scott McAfee',\n",
       "   'Mickie McGowan',\n",
       "   \"Ryan O'Donohue\",\n",
       "   'Jeff Pidgeon',\n",
       "   'Patrick Pinney',\n",
       "   'Phil Proctor',\n",
       "   'Jan Rabson',\n",
       "   'Joe Ranft',\n",
       "   'Andrew Stanton',\n",
       "   'Shane Sweet',\n",
       "   'Anthony Burch',\n",
       "   'Nenad Cvetko',\n",
       "   'Pat Fry',\n",
       "   'Carole Jeghers',\n",
       "   'Nathan Lane',\n",
       "   'John Lasseter',\n",
       "   'Branko Menicanin',\n",
       "   'Kresimir Mikic',\n",
       "   'Luka Peros',\n",
       "   'Ernie Sabella',\n",
       "   'Ranko Zidaric'],\n",
       "  'genres': ['Animation', 'Adventure', 'Comedy', 'Family', 'Fantasy'],\n",
       "  'director': ['John Lasseter'],\n",
       "  'plot': [\"A cowboy doll is profoundly threatened and jealous when a new spaceman figure supplants him as top toy in a boy's room.::Kenneth Chisholm\",\n",
       "   'A little boy named Andy loves to be in his room, playing with his toys, especially his doll named \"Woody\". But, what do the toys do when Andy is not with them, they come to life. Woody believes that his life (as a toy) is good. However, he must worry about Andy\\'s family moving, and what Woody does not know is about Andy\\'s birthday party. Woody does not realize that Andy\\'s mother gave him an action figure known as Buzz Lightyear, who does not believe that he is a toy, and quickly becomes Andy\\'s new favorite toy. Woody, who is now consumed with jealousy, tries to get rid of Buzz. Then, both Woody and Buzz are now lost. They must find a way to get back to Andy before he moves without them, but they will have to pass through a ruthless toy killer, Sid Phillips.::John Wiggins',\n",
       "   \"Woody, a good-hearted cowboy doll who belongs to a young boy named Andy, sees his position as Andy's favorite toy jeopardized when his mom buys him a Buzz Lightyear action figure. Even worse, the arrogant Buzz thinks he's a real spaceman on a mission to return to his home planet. When Andy's family moves to a new house, Woody and Buzz must escape the clutches of maladjusted neighbor Sid Phillips and reunite with their boy.::Jwelch5742\",\n",
       "   \"Toy Story is about the 'secret life of toys' when people are not around. When Buzz Lightyear, a space-ranger, takes Woody's place as Andy's favorite toy, Woody doesn't like the situation and gets into a fight with Buzz. Accidentaly Buzz falls out the window and Woody is accused by all the other toys of having killed him. He has to go out of the house to look for him so that they can both return to Andys room. But while on the outside they get into all kind of trouble while trying to get home.::Marcos Eduardo Acosta Aldrete\",\n",
       "   'Imagination runs rampant when toys become mobile when not watched. Two toys, Woody and Buzz Lightyear despise each other like no other. But, when the toys are separated from their home, a truce is formed between them all in an effort to journey home.::Joshua Davis <xtnb64a@prodigy.com>',\n",
       "   \"A toy named Woody has it all. He is practically the leader in Andy's toy room, Bo Peep has the hots for him, and most importantly, he is Andy's favorite toy. But when the clocks strike Andy's birthday, a new toy arrives. Buzz Lightyear, a space cadet who thinks he is a space ranger, (not a toy in a room) instantly wins over Andy, thus becoming Andy's new treasure. But when Woody is accused of knocking Buzz out of the window, he must go into the world and find Buzz, with many delays...::neo101\"],\n",
       "  'concated_for_matching': 'toy story1995john lasseter'}]"
      ]
     },
     "execution_count": 5,
     "metadata": {},
     "output_type": "execute_result"
    }
   ],
   "source": [
    "matched_pairs_new[0]"
   ]
  },
  {
   "cell_type": "code",
   "execution_count": 151,
   "metadata": {},
   "outputs": [
    {
     "data": {
      "text/plain": [
       "Counter({2: 1345, 1: 561})"
      ]
     },
     "execution_count": 151,
     "metadata": {},
     "output_type": "execute_result"
    }
   ],
   "source": [
    "Counter(len(x) for x in matched_pairs_new)"
   ]
  },
  {
   "cell_type": "code",
   "execution_count": 164,
   "metadata": {},
   "outputs": [
    {
     "data": {
      "text/plain": [
       "[('Hush (1998)', 'Hush(1998)'),\n",
       " ('Body Snatchers (1993)', 'Body Snatchers(1993)'),\n",
       " ('My Family (1995)', 'My Family(1995)'),\n",
       " ('In Love and War (1996)', 'In Love and War(1996)'),\n",
       " ('Touch (1997)', 'A Touch of Frost: Season 5(1997)'),\n",
       " ('Operation Dumbo Drop (1995)', 'Operation Dumbo Drop(1995)'),\n",
       " ('Being There (1979)', 'Being There(1979)'),\n",
       " ('Tie Me Up! Tie Me Down! (1990)', 'Tie Me Up! Tie Me Down!(1990)'),\n",
       " ('Larger Than Life (1996)', 'Larger Than Life(1996)'),\n",
       " ('Heaven & Earth (1993)', 'Heaven & Earth(1993)'),\n",
       " ('Big Lebowski, The (1998)', 'The Big Lebowski(1998)'),\n",
       " ('Little Odessa (1994)', 'Little Odessa(1994)'),\n",
       " ('River Wild, The (1994)', 'The River Wild(1994)'),\n",
       " ('Philadelphia Story, The (1940)', 'The Philadelphia Story(1940)'),\n",
       " ('Baton Rouge (1988)', 'Rouge(1988)'),\n",
       " ('All About Eve (1950)', 'All About Eve(1950)'),\n",
       " ('Neon Bible, The (1995)', 'Neon Bible(1995)'),\n",
       " ('Candyman: Farewell to the Flesh (1995)',\n",
       "  'Candyman 2: Farewell to the Flesh(1995)'),\n",
       " ('Con Air (1997)', 'Con Air(1997)'),\n",
       " ('Meet Me in St. Louis (1944)', 'Meet Me in St. Louis(1944)'),\n",
       " ('Grosse Pointe Blank (1997)', 'Grosse Pointe Blank(1997)'),\n",
       " ('Kundun (1997)', 'Kundun(1997)'),\n",
       " ('Only You (1994)', 'Only You(1994)'),\n",
       " ('Tom and Huck (1995)', 'Tom and Huck(1995)'),\n",
       " ('Once Upon a Time in the West (1969)', 'Once Upon a Time in the West(1968)'),\n",
       " ('Cool Runnings (1993)', 'Cool Runnings(1993)'),\n",
       " ('Manny & Lo (1996)', 'Manny & Lo(1996)'),\n",
       " ('Godfather: Part II, The (1974)', 'The Godfather, Part II(1974)'),\n",
       " ('Welcome To Sarajevo (1997)', 'Welcome to Sarajevo(1997)'),\n",
       " ('Turbulence (1997)', 'Turbulence(1997)')]"
      ]
     },
     "execution_count": 164,
     "metadata": {},
     "output_type": "execute_result"
    }
   ],
   "source": [
    "import random\n",
    "[ (x[0][\"filmname_given\"], x[1][\"filmname_given\"]) for x in random.sample(list(filter(lambda x: len(x) == 2 ,matched_pairs_new)),30)]"
   ]
  },
  {
   "cell_type": "code",
   "execution_count": 101,
   "metadata": {},
   "outputs": [],
   "source": [
    "from tqdm import tqdm"
   ]
  },
  {
   "cell_type": "code",
   "execution_count": 100,
   "metadata": {},
   "outputs": [
    {
     "data": {
      "text/plain": [
       "<module 'pandas' from '/home/max/anaconda3/envs/recommenders_env/lib/python3.7/site-packages/pandas/__init__.py'>"
      ]
     },
     "execution_count": 100,
     "metadata": {},
     "output_type": "execute_result"
    }
   ],
   "source": [
    "pd"
   ]
  },
  {
   "cell_type": "code",
   "execution_count": 98,
   "metadata": {},
   "outputs": [
    {
     "data": {
      "text/plain": [
       "{'filmname_given': 'Toy Story (1995)',\n",
       " 'film_id': 1,\n",
       " 'title': 'Toy Story',\n",
       " 'year': 1995,\n",
       " 'cast': ['Tom Hanks',\n",
       "  'Tim Allen',\n",
       "  'Don Rickles',\n",
       "  'Jim Varney',\n",
       "  'Wallace Shawn',\n",
       "  'John Ratzenberger',\n",
       "  'Annie Potts',\n",
       "  'John Morris',\n",
       "  'Erik von Detten',\n",
       "  'Laurie Metcalf',\n",
       "  'R. Lee Ermey',\n",
       "  'Sarah Freeman',\n",
       "  'Penn Jillette',\n",
       "  'Jack Angel',\n",
       "  'Spencer Aste',\n",
       "  'Greg Berg',\n",
       "  'Lisa Bradley',\n",
       "  'Kendall Cunningham',\n",
       "  'Debi Derryberry',\n",
       "  'Cody Dorkin',\n",
       "  'Bill Farmer',\n",
       "  'Craig Good',\n",
       "  'Gregory Grudt',\n",
       "  'Danielle Judovits',\n",
       "  'Sam Lasseter',\n",
       "  'Brittany Levenbrown',\n",
       "  'Sherry Lynn',\n",
       "  'Scott McAfee',\n",
       "  'Mickie McGowan',\n",
       "  \"Ryan O'Donohue\",\n",
       "  'Jeff Pidgeon',\n",
       "  'Patrick Pinney',\n",
       "  'Phil Proctor',\n",
       "  'Jan Rabson',\n",
       "  'Joe Ranft',\n",
       "  'Andrew Stanton',\n",
       "  'Shane Sweet',\n",
       "  'Anthony Burch',\n",
       "  'Nenad Cvetko',\n",
       "  'Pat Fry',\n",
       "  'Carole Jeghers',\n",
       "  'Nathan Lane',\n",
       "  'John Lasseter',\n",
       "  'Branko Menicanin',\n",
       "  'Kresimir Mikic',\n",
       "  'Luka Peros',\n",
       "  'Ernie Sabella',\n",
       "  'Ranko Zidaric'],\n",
       " 'genres': ['Animation', 'Adventure', 'Comedy', 'Family', 'Fantasy'],\n",
       " 'director': ['John Lasseter'],\n",
       " 'plot': [\"A cowboy doll is profoundly threatened and jealous when a new spaceman figure supplants him as top toy in a boy's room.::Kenneth Chisholm\",\n",
       "  'A little boy named Andy loves to be in his room, playing with his toys, especially his doll named \"Woody\". But, what do the toys do when Andy is not with them, they come to life. Woody believes that his life (as a toy) is good. However, he must worry about Andy\\'s family moving, and what Woody does not know is about Andy\\'s birthday party. Woody does not realize that Andy\\'s mother gave him an action figure known as Buzz Lightyear, who does not believe that he is a toy, and quickly becomes Andy\\'s new favorite toy. Woody, who is now consumed with jealousy, tries to get rid of Buzz. Then, both Woody and Buzz are now lost. They must find a way to get back to Andy before he moves without them, but they will have to pass through a ruthless toy killer, Sid Phillips.::John Wiggins',\n",
       "  \"Woody, a good-hearted cowboy doll who belongs to a young boy named Andy, sees his position as Andy's favorite toy jeopardized when his mom buys him a Buzz Lightyear action figure. Even worse, the arrogant Buzz thinks he's a real spaceman on a mission to return to his home planet. When Andy's family moves to a new house, Woody and Buzz must escape the clutches of maladjusted neighbor Sid Phillips and reunite with their boy.::Jwelch5742\",\n",
       "  \"Toy Story is about the 'secret life of toys' when people are not around. When Buzz Lightyear, a space-ranger, takes Woody's place as Andy's favorite toy, Woody doesn't like the situation and gets into a fight with Buzz. Accidentaly Buzz falls out the window and Woody is accused by all the other toys of having killed him. He has to go out of the house to look for him so that they can both return to Andys room. But while on the outside they get into all kind of trouble while trying to get home.::Marcos Eduardo Acosta Aldrete\",\n",
       "  'Imagination runs rampant when toys become mobile when not watched. Two toys, Woody and Buzz Lightyear despise each other like no other. But, when the toys are separated from their home, a truce is formed between them all in an effort to journey home.::Joshua Davis <xtnb64a@prodigy.com>',\n",
       "  \"A toy named Woody has it all. He is practically the leader in Andy's toy room, Bo Peep has the hots for him, and most importantly, he is Andy's favorite toy. But when the clocks strike Andy's birthday, a new toy arrives. Buzz Lightyear, a space cadet who thinks he is a space ranger, (not a toy in a room) instantly wins over Andy, thus becoming Andy's new treasure. But when Woody is accused of knocking Buzz out of the window, he must go into the world and find Buzz, with many delays...::neo101\"],\n",
       " 'concated_for_matching': 'toy story1995john lasseter'}"
      ]
     },
     "execution_count": 98,
     "metadata": {},
     "output_type": "execute_result"
    }
   ],
   "source": [
    "ml100k_movies_info[0]"
   ]
  },
  {
   "cell_type": "code",
   "execution_count": null,
   "metadata": {},
   "outputs": [],
   "source": []
  }
 ],
 "metadata": {
  "kernelspec": {
   "display_name": "Python 3",
   "language": "python",
   "name": "python3"
  },
  "language_info": {
   "codemirror_mode": {
    "name": "ipython",
    "version": 3
   },
   "file_extension": ".py",
   "mimetype": "text/x-python",
   "name": "python",
   "nbconvert_exporter": "python",
   "pygments_lexer": "ipython3",
   "version": "3.6.12"
  }
 },
 "nbformat": 4,
 "nbformat_minor": 4
}
