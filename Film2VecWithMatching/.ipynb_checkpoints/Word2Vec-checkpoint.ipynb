{
 "cells": [
  {
   "cell_type": "code",
   "execution_count": 1,
   "metadata": {},
   "outputs": [],
   "source": [
    "from gensim.models.keyedvectors import KeyedVectors\n",
    "\n",
    "word_vectors = KeyedVectors.load(\"vectors_new_v2.kv\", mmap='r')"
   ]
  },
  {
   "cell_type": "code",
   "execution_count": 2,
   "metadata": {},
   "outputs": [],
   "source": [
    "import pandas as pd"
   ]
  },
  {
   "cell_type": "code",
   "execution_count": 3,
   "metadata": {},
   "outputs": [],
   "source": [
    "netflix_id_to_movie_dict = pd.read_pickle(\"netflix_id_to_movie_dict.pkl\")"
   ]
  },
  {
   "cell_type": "code",
   "execution_count": 4,
   "metadata": {},
   "outputs": [],
   "source": [
    "def get_recommendations(users_likes, n = 5):\n",
    "    #users_likes - list of netflix film ids as string\n",
    "    #topn - num most likely\n",
    "    word_vectors.most_similar_cosmul(positive=users_likes)\n",
    "    all_recomendations = []\n",
    "    for like in users_likes:\n",
    "        all_recomendations += word_vectors.similar_by_word(like, topn=n)\n",
    "    all_recomendations = list(filter(lambda x: x[0] not in users_likes ,list(set(list(all_recomendations)))))\n",
    "    all_recomendations.sort(key = lambda x: x[1], reverse = True)\n",
    "    all_recomendations_new = []\n",
    "    used_ids = []\n",
    "    for rec in all_recomendations:\n",
    "        if rec[0] not in used_ids:\n",
    "            all_recomendations_new.append(rec)\n",
    "            used_ids.append(rec[0])\n",
    "    result = []\n",
    "    for recom in all_recomendations_new[:n]:\n",
    "        result.append({\"netflix_id\": recom[0], \"similarity\": recom[1], \"film_name\": netflix_id_to_movie_dict[recom[0]]})\n",
    "    return result"
   ]
  },
  {
   "cell_type": "code",
   "execution_count": 5,
   "metadata": {},
   "outputs": [
    {
     "data": {
      "text/plain": [
       "[{'netflix_id': '3303',\n",
       "  'similarity': 0.8000013828277588,\n",
       "  'film_name': 'Reservoir Dogs: Bonus Material'},\n",
       " {'netflix_id': '16586',\n",
       "  'similarity': 0.7958824634552002,\n",
       "  'film_name': \"Jackie Brown: Collector's Series: Bonus Material\"},\n",
       " {'netflix_id': '673',\n",
       "  'similarity': 0.7902252078056335,\n",
       "  'film_name': 'Fight Club: Bonus Material'},\n",
       " {'netflix_id': '2689',\n",
       "  'similarity': 0.7735550403594971,\n",
       "  'film_name': 'Minority Report: Bonus Material'},\n",
       " {'netflix_id': '4551',\n",
       "  'similarity': 0.7523927688598633,\n",
       "  'film_name': 'Snatch: Bonus Material'}]"
      ]
     },
     "execution_count": 5,
     "metadata": {},
     "output_type": "execute_result"
    }
   ],
   "source": [
    "# 3524 - Pulp Fiction, 8072 - Seven (also Taranino's film)\n",
    "get_recommendations(['3524', '8072'])"
   ]
  },
  {
   "cell_type": "code",
   "execution_count": 11,
   "metadata": {},
   "outputs": [],
   "source": [
    "netflix_id_2_ml100k_id = pd.read_pickle(\"netflix_id_2_ml100k_id.pkl\")\n",
    "ml100k_id_2_netflix_id = pd.read_pickle(\"ml100k_id_2_netflix_id.pkl\")"
   ]
  },
  {
   "cell_type": "code",
   "execution_count": 18,
   "metadata": {},
   "outputs": [],
   "source": []
  }
 ],
 "metadata": {
  "kernelspec": {
   "display_name": "Python 3",
   "language": "python",
   "name": "python3"
  },
  "language_info": {
   "codemirror_mode": {
    "name": "ipython",
    "version": 3
   },
   "file_extension": ".py",
   "mimetype": "text/x-python",
   "name": "python",
   "nbconvert_exporter": "python",
   "pygments_lexer": "ipython3",
   "version": "3.6.12"
  }
 },
 "nbformat": 4,
 "nbformat_minor": 4
}
