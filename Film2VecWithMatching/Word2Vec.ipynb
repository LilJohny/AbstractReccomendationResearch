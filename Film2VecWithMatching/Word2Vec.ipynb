{
 "cells": [
  {
   "cell_type": "code",
   "execution_count": 2,
   "metadata": {},
   "outputs": [],
   "source": [
    "from gensim.models.keyedvectors import KeyedVectors\n",
    "\n",
    "word_vectors = KeyedVectors.load(\"vectors_new_v2.kv\", mmap='r')"
   ]
  },
  {
   "cell_type": "code",
   "execution_count": 3,
   "metadata": {},
   "outputs": [],
   "source": [
    "import pandas as pd"
   ]
  },
  {
   "cell_type": "code",
   "execution_count": 4,
   "metadata": {},
   "outputs": [],
   "source": [
    "netflix_id_to_movie_dict = pd.read_pickle(\"netflix_id_to_movie_dict.pkl\")"
   ]
  },
  {
   "cell_type": "code",
   "execution_count": 5,
   "metadata": {},
   "outputs": [],
   "source": [
    "def get_recommendations(users_likes, n = 5):\n",
    "    #users_likes - list of netflix film ids as string\n",
    "    #topn - num most likely\n",
    "    word_vectors.most_similar_cosmul(positive=users_likes)\n",
    "    all_recomendations = []\n",
    "    for like in users_likes:\n",
    "        all_recomendations += word_vectors.similar_by_word(like, topn=n)\n",
    "    all_recomendations = list(filter(lambda x: x[0] not in users_likes ,list(set(list(all_recomendations)))))\n",
    "    all_recomendations.sort(key = lambda x: x[1], reverse = True)\n",
    "    all_recomendations_new = []\n",
    "    used_ids = []\n",
    "    for rec in all_recomendations:\n",
    "        if rec[0] not in used_ids:\n",
    "            all_recomendations_new.append(rec)\n",
    "            used_ids.append(rec[0])\n",
    "    result = []\n",
    "    for recom in all_recomendations_new[:n]:\n",
    "        result.append({\"netflix_id\": recom[0], \"similarity\": recom[1], \"film_name\": netflix_id_to_movie_dict[recom[0]]})\n",
    "    return result"
   ]
  },
  {
   "cell_type": "code",
   "execution_count": 6,
   "metadata": {},
   "outputs": [
    {
     "data": {
      "text/plain": [
       "[{'netflix_id': '3303',\n",
       "  'similarity': 0.8000013828277588,\n",
       "  'film_name': 'Reservoir Dogs: Bonus Material'},\n",
       " {'netflix_id': '16586',\n",
       "  'similarity': 0.7958824634552002,\n",
       "  'film_name': \"Jackie Brown: Collector's Series: Bonus Material\"},\n",
       " {'netflix_id': '673',\n",
       "  'similarity': 0.7902252078056335,\n",
       "  'film_name': 'Fight Club: Bonus Material'},\n",
       " {'netflix_id': '2689',\n",
       "  'similarity': 0.7735550403594971,\n",
       "  'film_name': 'Minority Report: Bonus Material'},\n",
       " {'netflix_id': '4551',\n",
       "  'similarity': 0.7523927688598633,\n",
       "  'film_name': 'Snatch: Bonus Material'}]"
      ]
     },
     "execution_count": 6,
     "metadata": {},
     "output_type": "execute_result"
    }
   ],
   "source": [
    "# 3524 - Pulp Fiction, 8072 - Seven (also Taranino's film)\n",
    "get_recommendations(['3524', '8072'])"
   ]
  },
  {
   "cell_type": "code",
   "execution_count": 52,
   "metadata": {},
   "outputs": [],
   "source": [
    "netflix_id_2_ml100k_id = pd.read_pickle(\"netflix_id_2_ml100k_id.pkl\")\n",
    "ml100k_id_2_netflix_id = pd.read_pickle(\"ml100k_id_2_netflix_id.pkl\")"
   ]
  },
  {
   "cell_type": "code",
   "execution_count": 33,
   "metadata": {},
   "outputs": [
    {
     "data": {
      "text/plain": [
       "1345"
      ]
     },
     "execution_count": 33,
     "metadata": {},
     "output_type": "execute_result"
    }
   ],
   "source": [
    "len(ml100k_id_2_netflix_id)"
   ]
  },
  {
   "cell_type": "code",
   "execution_count": 34,
   "metadata": {},
   "outputs": [
    {
     "data": {
      "text/plain": [
       "1345"
      ]
     },
     "execution_count": 34,
     "metadata": {},
     "output_type": "execute_result"
    }
   ],
   "source": [
    "len(ml100k_id_2_netflix_id)"
   ]
  },
  {
   "cell_type": "code",
   "execution_count": 71,
   "metadata": {},
   "outputs": [],
   "source": [
    "# Most important\n",
    "def get_recommendations_for_ml100k(users_likes, n = 100):\n",
    "    #users_likes - list of ml100k film ids as string\n",
    "    #topn - num most likely\n",
    "    users_likes_netflix = [ml100k_id_2_netflix_id[x] for x in filter(lambda y: y in ml100k_id_2_netflix_id,users_likes)]\n",
    "    if users_likes_netflix:\n",
    "        result_netflix = get_recommendations(list(users_likes_netflix), n)\n",
    "        result_ml_100k = []\n",
    "        for res in result_netflix:\n",
    "            if len(result_ml_100k) == 5:\n",
    "                return result_ml_100k\n",
    "            if res['netflix_id'] in netflix_id_2_ml100k_id:\n",
    "                res['ml100k_id'] = str(netflix_id_2_ml100k_id[res['netflix_id']])\n",
    "                result_ml_100k.append(res)\n",
    "        return result_ml_100k\n",
    "    return []"
   ]
  },
  {
   "cell_type": "code",
   "execution_count": 72,
   "metadata": {},
   "outputs": [
    {
     "data": {
      "text/plain": [
       "[{'netflix_id': '7989',\n",
       "  'similarity': 0.4721536338329315,\n",
       "  'film_name': 'Beauty and the Beast: Special Edition',\n",
       "  'ml100k_id': '588'},\n",
       " {'netflix_id': '4127',\n",
       "  'similarity': 0.4488835334777832,\n",
       "  'film_name': 'The Flintstones',\n",
       "  'ml100k_id': '383'},\n",
       " {'netflix_id': '17158',\n",
       "  'similarity': 0.44245103001594543,\n",
       "  'film_name': 'The Jungle Book',\n",
       "  'ml100k_id': '465'},\n",
       " {'netflix_id': '14771',\n",
       "  'similarity': 0.4338449239730835,\n",
       "  'film_name': '32 Short Films About Glenn Gould',\n",
       "  'ml100k_id': '811'},\n",
       " {'netflix_id': '16608',\n",
       "  'similarity': 0.4115031957626343,\n",
       "  'film_name': 'Buddy',\n",
       "  'ml100k_id': '1608'}]"
      ]
     },
     "execution_count": 72,
     "metadata": {},
     "output_type": "execute_result"
    }
   ],
   "source": [
    "# '71' - 'Lion King, The (1994)'\n",
    "get_recommendations_for_ml100k(['71'])"
   ]
  },
  {
   "cell_type": "code",
   "execution_count": 74,
   "metadata": {},
   "outputs": [
    {
     "data": {
      "text/plain": [
       "[]"
      ]
     },
     "execution_count": 74,
     "metadata": {},
     "output_type": "execute_result"
    }
   ],
   "source": [
    "#96 - 'Terminator 2: Judgment Day (1991)'\n",
    "get_recommendations_for_ml100k(['96'])"
   ]
  }
 ],
 "metadata": {
  "kernelspec": {
   "display_name": "Python 3",
   "language": "python",
   "name": "python3"
  },
  "language_info": {
   "codemirror_mode": {
    "name": "ipython",
    "version": 3
   },
   "file_extension": ".py",
   "mimetype": "text/x-python",
   "name": "python",
   "nbconvert_exporter": "python",
   "pygments_lexer": "ipython3",
   "version": "3.6.12"
  }
 },
 "nbformat": 4,
 "nbformat_minor": 4
}
