{
 "metadata": {
  "language_info": {
   "codemirror_mode": {
    "name": "ipython",
    "version": 3
   },
   "file_extension": ".py",
   "mimetype": "text/x-python",
   "name": "python",
   "nbconvert_exporter": "python",
   "pygments_lexer": "ipython3",
   "version": "3.7.9-final"
  },
  "orig_nbformat": 2,
  "kernelspec": {
   "name": "python_defaultSpec_1601664312076",
   "display_name": "Python 3.7.9 64-bit ('reccomendations': conda)",
   "metadata": {
    "interpreter": {
     "hash": "1ee38ef4a5a9feb55287fd749643f13d043cb0a7addaab2a9c224cbe137c0062"
    }
   }
  }
 },
 "nbformat": 4,
 "nbformat_minor": 2,
 "cells": [
  {
   "cell_type": "code",
   "execution_count": 1,
   "metadata": {
    "tags": []
   },
   "outputs": [
    {
     "output_type": "stream",
     "name": "stdout",
     "text": "Collecting package metadata (current_repodata.json): done\nSolving environment: done\n\n# All requested packages already installed.\n\n"
    }
   ],
   "source": [
    "!conda install -c conda-forge scikit-surprise"
   ]
  },
  {
   "cell_type": "code",
   "execution_count": 3,
   "metadata": {
    "tags": []
   },
   "outputs": [
    {
     "output_type": "stream",
     "name": "stdout",
     "text": "Evaluating RMSE, MAE, FCP of algorithm NormalPredictor on 5 split(s).\n\n                  Fold 1  Fold 2  Fold 3  Fold 4  Fold 5  Mean    Std     \nRMSE (testset)    1.5149  1.5149  1.5208  1.5208  1.5147  1.5172  0.0029  \nMAE (testset)     1.2202  1.2140  1.2186  1.2223  1.2188  1.2188  0.0027  \nFCP (testset)     0.5034  0.4975  0.4973  0.4986  0.4861  0.4966  0.0057  \nFit time          0.09    0.12    0.12    0.11    0.12    0.11    0.01    \nTest time         0.10    0.10    0.10    0.10    0.19    0.12    0.03    \nEstimating biases using als...\nEstimating biases using als...\nEstimating biases using als...\nEstimating biases using als...\nEstimating biases using als...\nEvaluating RMSE, MAE, FCP of algorithm BaselineOnly on 5 split(s).\n\n                  Fold 1  Fold 2  Fold 3  Fold 4  Fold 5  Mean    Std     \nRMSE (testset)    0.9457  0.9513  0.9435  0.9427  0.9379  0.9442  0.0044  \nMAE (testset)     0.7485  0.7531  0.7498  0.7489  0.7422  0.7485  0.0035  \nFCP (testset)     0.7030  0.6907  0.6995  0.6929  0.6969  0.6966  0.0044  \nFit time          0.18    0.19    0.19    0.20    0.20    0.19    0.01    \nTest time         0.08    0.17    0.08    0.16    0.08    0.11    0.04    \nComputing the msd similarity matrix...\nDone computing similarity matrix.\nComputing the msd similarity matrix...\nDone computing similarity matrix.\nComputing the msd similarity matrix...\nDone computing similarity matrix.\nComputing the msd similarity matrix...\nDone computing similarity matrix.\nComputing the msd similarity matrix...\nDone computing similarity matrix.\nEvaluating RMSE, MAE, FCP of algorithm KNNBasic on 5 split(s).\n\n                  Fold 1  Fold 2  Fold 3  Fold 4  Fold 5  Mean    Std     \nRMSE (testset)    0.9760  0.9785  0.9727  0.9804  0.9868  0.9789  0.0047  \nMAE (testset)     0.7689  0.7720  0.7700  0.7739  0.7801  0.7730  0.0040  \nFCP (testset)     0.7129  0.7066  0.7071  0.7164  0.7042  0.7094  0.0045  \nFit time          0.26    0.28    0.31    0.28    0.29    0.28    0.02    \nTest time         2.64    2.77    2.73    2.81    2.70    2.73    0.06    \nComputing the msd similarity matrix...\nDone computing similarity matrix.\nComputing the msd similarity matrix...\nDone computing similarity matrix.\nComputing the msd similarity matrix...\nDone computing similarity matrix.\nComputing the msd similarity matrix...\nDone computing similarity matrix.\nComputing the msd similarity matrix...\nDone computing similarity matrix.\nEvaluating RMSE, MAE, FCP of algorithm KNNWithMeans on 5 split(s).\n\n                  Fold 1  Fold 2  Fold 3  Fold 4  Fold 5  Mean    Std     \nRMSE (testset)    0.9502  0.9461  0.9596  0.9510  0.9410  0.9496  0.0061  \nMAE (testset)     0.7459  0.7455  0.7552  0.7524  0.7412  0.7480  0.0050  \nFCP (testset)     0.7015  0.7002  0.7063  0.7062  0.7049  0.7038  0.0025  \nFit time          0.28    0.31    0.31    0.31    0.34    0.31    0.02    \nTest time         2.84    2.90    2.90    2.92    2.85    2.88    0.03    \nEstimating biases using als...\nComputing the msd similarity matrix...\nDone computing similarity matrix.\nEstimating biases using als...\nComputing the msd similarity matrix...\nDone computing similarity matrix.\nEstimating biases using als...\nComputing the msd similarity matrix...\nDone computing similarity matrix.\nEstimating biases using als...\nComputing the msd similarity matrix...\nDone computing similarity matrix.\nEstimating biases using als...\nComputing the msd similarity matrix...\nDone computing similarity matrix.\nEvaluating RMSE, MAE, FCP of algorithm KNNBaseline on 5 split(s).\n\n                  Fold 1  Fold 2  Fold 3  Fold 4  Fold 5  Mean    Std     \nRMSE (testset)    0.9272  0.9347  0.9327  0.9367  0.9211  0.9305  0.0057  \nMAE (testset)     0.7293  0.7355  0.7350  0.7381  0.7269  0.7329  0.0042  \nFCP (testset)     0.7080  0.7070  0.7039  0.7034  0.7177  0.7080  0.0052  \nFit time          0.48    0.48    0.47    0.46    0.47    0.47    0.01    \nTest time         3.19    3.17    3.09    3.26    3.14    3.17    0.05    \nEvaluating RMSE, MAE, FCP of algorithm SVD on 5 split(s).\n\n                  Fold 1  Fold 2  Fold 3  Fold 4  Fold 5  Mean    Std     \nRMSE (testset)    0.9408  0.9338  0.9317  0.9400  0.9310  0.9354  0.0041  \nMAE (testset)     0.7414  0.7362  0.7348  0.7411  0.7326  0.7372  0.0035  \nFCP (testset)     0.6978  0.6978  0.7033  0.6978  0.7028  0.6999  0.0026  \nFit time          3.75    3.77    3.77    3.75    3.80    3.77    0.02    \nTest time         0.22    0.11    0.10    0.22    0.10    0.15    0.06    \nEvaluating RMSE, MAE, FCP of algorithm SVDpp on 5 split(s).\n\n                  Fold 1  Fold 2  Fold 3  Fold 4  Fold 5  Mean    Std     \nRMSE (testset)    0.9179  0.9281  0.9206  0.9256  0.9129  0.9210  0.0054  \nMAE (testset)     0.7222  0.7249  0.7214  0.7286  0.7162  0.7227  0.0041  \nFCP (testset)     0.7114  0.7053  0.7054  0.7112  0.7136  0.7094  0.0034  \nFit time          139.51  142.66  144.75  141.43  135.42  140.75  3.16    \nTest time         2.51    2.79    2.74    2.80    2.63    2.70    0.11    \n"
    },
    {
     "output_type": "execute_result",
     "data": {
      "text/plain": "{&#39;test_rmse&#39;: array([0.91785677, 0.92808664, 0.92061762, 0.92556979, 0.91288353]),\n &#39;test_mae&#39;: array([0.72217461, 0.72494952, 0.72136172, 0.72863724, 0.7161946 ]),\n &#39;test_fcp&#39;: array([0.711361  , 0.70527626, 0.70542808, 0.71121048, 0.71359846]),\n &#39;fit_time&#39;: (139.5071828365326,\n  142.66110515594482,\n  144.75219988822937,\n  141.42762994766235,\n  135.42054295539856),\n &#39;test_time&#39;: (2.5089988708496094,\n  2.793266773223877,\n  2.7438762187957764,\n  2.799530029296875,\n  2.6305768489837646)}"
     },
     "metadata": {},
     "execution_count": 3
    }
   ],
   "source": [
    "from surprise import NormalPredictor, BaselineOnly, KNNBasic, KNNWithMeans,  KNNBaseline, SVD, SVDpp\n",
    "from surprise import Dataset\n",
    "from surprise.model_selection import cross_validate\n",
    "\n",
    "# Load the movielens-100k dataset (download it if needed).\n",
    "data = Dataset.load_builtin('ml-100k')\n",
    "\n",
    "# Use the famous SVD algorithm.\n",
    "\n",
    "norm_pred = NormalPredictor()\n",
    "baseline_only = BaselineOnly()\n",
    "knn_basic = KNNBasic()\n",
    "knn_with_means = KNNWithMeans()\n",
    "knn_baseline = KNNBaseline()\n",
    "svd = SVD()\n",
    "svd_pp = SVDpp()\n",
    "# Run 5-fold cross-validation and print results.\n",
    "cross_validate(norm_pred, data, measures=['RMSE', 'MAE', 'FCP'], cv=5, verbose=True)\n",
    "cross_validate(baseline_only, data, measures=['RMSE', 'MAE', 'FCP'], cv=5, verbose=True)\n",
    "cross_validate(knn_basic, data, measures=['RMSE', 'MAE', 'FCP'], cv=5, verbose=True)\n",
    "cross_validate(knn_with_means, data, measures=['RMSE', 'MAE', 'FCP'], cv=5, verbose=True)\n",
    "cross_validate(knn_baseline, data, measures=['RMSE', 'MAE', 'FCP'], cv=5, verbose=True)\n",
    "cross_validate(svd, data, measures=['RMSE', 'MAE', 'FCP'], cv=5, verbose=True)\n",
    "cross_validate(svd_pp, data, measures=['RMSE', 'MAE', 'FCP'], cv=5, verbose=True)\n"
   ]
  },
  {
   "source": [
    "---\n",
    "Normal predictor\n",
    "---\n",
    "\n",
    "- RMSE (testset)    1.5149  1.5149  1.5208  1.5208  1.5147  1.5172  0.0029  \n",
    "- MAE (testset)     1.2202  1.2140  1.2186  1.2223  1.2188  1.2188  0.0027  \n",
    "- FCP (testset)     0.5034  0.4975  0.4973  0.4986  0.4861  0.4966  0.0057  \n",
    "---\n",
    "Baseline only\n",
    "---\n",
    "\n",
    "- RMSE (testset)    0.9457  0.9513  0.9435  0.9427  0.9379  0.9442  0.0044  \n",
    "- MAE (testset)     0.7485  0.7531  0.7498  0.7489  0.7422  0.7485  0.0035  \n",
    "- FCP (testset)     0.7030  0.6907  0.6995  0.6929  0.6969  0.6966  0.0044  \n",
    "---\n",
    "KNN Basic\n",
    "---\n",
    "\n",
    "- RMSE (testset)    0.9760  0.9785  0.9727  0.9804  0.9868  0.9789  0.0047  \n",
    "- MAE (testset)     0.7689  0.7720  0.7700  0.7739  0.7801  0.7730  0.0040  \n",
    "- FCP (testset)     0.7129  0.7066  0.7071  0.7164  0.7042  0.7094  0.0045  \n",
    "---\n",
    "KNN with Means\n",
    "---\n",
    "\n",
    "- RMSE (testset)    0.9502  0.9461  0.9596  0.9510  0.9410  0.9496  0.0061  \n",
    "- MAE (testset)     0.7459  0.7455  0.7552  0.7524  0.7412  0.7480  0.0050  \n",
    "- FCP (testset)     0.7015  0.7002  0.7063  0.7062  0.7049  0.7038  0.0025 \n",
    "---\n",
    "KNN Baseline\n",
    "---\n",
    "\n",
    "- RMSE (testset)    0.9272  0.9347  0.9327  0.9367  0.9211  0.9305  0.0057  \n",
    "- MAE (testset)     0.7293  0.7355  0.7350  0.7381  0.7269  0.7329  0.0042  \n",
    "- FCP (testset)     0.7080  0.7070  0.7039  0.7034  0.7177  0.7080  0.0052 \n",
    "---\n",
    "SVD\n",
    "---\n",
    "\n",
    "- RMSE (testset)    0.9408  0.9338  0.9317  0.9400  0.9310  0.9354  0.0041  \n",
    "- MAE (testset)     0.7414  0.7362  0.7348  0.7411  0.7326  0.7372  0.0035  \n",
    "- FCP (testset)     0.6978  0.6978  0.7033  0.6978  0.7028  0.6999  0.0026\n",
    "---\n",
    "SVDpp\n",
    "---\n",
    "\n",
    "- RMSE (testset)    0.9179  0.9281  0.9206  0.9256  0.9129  0.9210  0.0054  \n",
    "- MAE (testset)     0.7222  0.7249  0.7214  0.7286  0.7162  0.7227  0.0041  \n",
    "- FCP (testset)     0.7114  0.7053  0.7054  0.7112  0.7136  0.7094  0.0034    \n",
    "---"
   ],
   "cell_type": "markdown",
   "metadata": {}
  },
  {
   "cell_type": "code",
   "execution_count": null,
   "metadata": {},
   "outputs": [],
   "source": []
  }
 ]
}