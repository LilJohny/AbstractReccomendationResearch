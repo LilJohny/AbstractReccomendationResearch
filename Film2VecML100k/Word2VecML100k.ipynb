{
 "cells": [
  {
   "cell_type": "code",
   "execution_count": 1,
   "metadata": {},
   "outputs": [],
   "source": [
    "import numpy as np\n",
    "import pandas as pd"
   ]
  },
  {
   "cell_type": "code",
   "execution_count": 2,
   "metadata": {},
   "outputs": [],
   "source": [
    "with open(\"u.data\") as f:\n",
    "    data = f.readlines()"
   ]
  },
  {
   "cell_type": "code",
   "execution_count": 3,
   "metadata": {},
   "outputs": [
    {
     "data": {
      "text/plain": [
       "['196\\t242\\t3\\t881250949\\n',\n",
       " '186\\t302\\t3\\t891717742\\n',\n",
       " '22\\t377\\t1\\t878887116\\n']"
      ]
     },
     "execution_count": 3,
     "metadata": {},
     "output_type": "execute_result"
    }
   ],
   "source": [
    "# user id | item id | rating | timestamp. \n",
    "data[:3]"
   ]
  },
  {
   "cell_type": "code",
   "execution_count": 4,
   "metadata": {},
   "outputs": [
    {
     "data": {
      "text/plain": [
       "['196', '242', '3', '881250949']"
      ]
     },
     "execution_count": 4,
     "metadata": {},
     "output_type": "execute_result"
    }
   ],
   "source": [
    "data[0].split()"
   ]
  },
  {
   "cell_type": "code",
   "execution_count": 5,
   "metadata": {},
   "outputs": [],
   "source": [
    "# if rating >= 4 -> likes\n",
    "from collections import defaultdict\n",
    "\n",
    "data_dict = defaultdict(list)\n",
    "\n",
    "for line in data:\n",
    "    line_split = line.split()\n",
    "    uid = line_split[0].strip()\n",
    "    rate = int(line_split[2])\n",
    "    film_id = line_split[1].strip()\n",
    "    \n",
    "    if rate >= 4:\n",
    "        data_dict[uid].append(film_id)\n",
    "    "
   ]
  },
  {
   "cell_type": "code",
   "execution_count": 6,
   "metadata": {},
   "outputs": [
    {
     "data": {
      "text/plain": [
       "942"
      ]
     },
     "execution_count": 6,
     "metadata": {},
     "output_type": "execute_result"
    }
   ],
   "source": [
    "len(data_dict) #942 users in dataset"
   ]
  },
  {
   "cell_type": "code",
   "execution_count": 7,
   "metadata": {},
   "outputs": [
    {
     "data": {
      "text/plain": [
       "['298', '253', '286', '200', '122', '291', '119', '167', '299', '308']"
      ]
     },
     "execution_count": 7,
     "metadata": {},
     "output_type": "execute_result"
    }
   ],
   "source": [
    "list(data_dict.keys())[:10]"
   ]
  },
  {
   "cell_type": "code",
   "execution_count": 8,
   "metadata": {},
   "outputs": [
    {
     "data": {
      "text/plain": [
       "58.78450106157113"
      ]
     },
     "execution_count": 8,
     "metadata": {},
     "output_type": "execute_result"
    }
   ],
   "source": [
    "np.mean(list(map(lambda v: len(v),data_dict.values()))) #avg num of films this person liked"
   ]
  },
  {
   "cell_type": "code",
   "execution_count": 28,
   "metadata": {},
   "outputs": [
    {
     "data": {
      "text/plain": [
       "39.5"
      ]
     },
     "execution_count": 28,
     "metadata": {},
     "output_type": "execute_result"
    }
   ],
   "source": [
    "np.median(list(map(lambda v: len(v),data_dict.values()))) "
   ]
  },
  {
   "cell_type": "code",
   "execution_count": 29,
   "metadata": {},
   "outputs": [
    {
     "data": {
      "text/plain": [
       "54.667623888448"
      ]
     },
     "execution_count": 29,
     "metadata": {},
     "output_type": "execute_result"
    }
   ],
   "source": [
    "np.std(list(map(lambda v: len(v),data_dict.values()))) "
   ]
  },
  {
   "cell_type": "code",
   "execution_count": 35,
   "metadata": {},
   "outputs": [
    {
     "data": {
      "text/plain": [
       "<AxesSubplot:>"
      ]
     },
     "execution_count": 35,
     "metadata": {},
     "output_type": "execute_result"
    },
    {
     "data": {
      "image/png": "[encoded data removed]",
      "text/plain": [
       "<Figure size 432x288 with 1 Axes>"
      ]
     },
     "metadata": {
      "needs_background": "light"
     },
     "output_type": "display_data"
    }
   ],
   "source": [
    "pd.Series(list(map(lambda v: len(v),data_dict.values()))).hist(bins = 50)"
   ]
  },
  {
   "cell_type": "code",
   "execution_count": 36,
   "metadata": {},
   "outputs": [
    {
     "data": {
      "text/plain": [
       "<AxesSubplot:>"
      ]
     },
     "execution_count": 36,
     "metadata": {},
     "output_type": "execute_result"
    },
    {
     "data": {
      "image/png": "[encoded data removed]",
      "text/plain": [
       "<Figure size 432x288 with 1 Axes>"
      ]
     },
     "metadata": {
      "needs_background": "light"
     },
     "output_type": "display_data"
    }
   ],
   "source": [
    "pd.Series(list(map(lambda v: len(v),data_dict.values()))).plot(kind = \"box\")"
   ]
  },
  {
   "cell_type": "code",
   "execution_count": 9,
   "metadata": {},
   "outputs": [],
   "source": [
    "test_keys = np.random.choice(list(list(data_dict.keys())), int(len(list(data_dict.keys())) * 0.1))"
   ]
  },
  {
   "cell_type": "code",
   "execution_count": 10,
   "metadata": {},
   "outputs": [],
   "source": [
    "train_keys = list(set(list(data_dict.keys())) - set(test_keys))"
   ]
  },
  {
   "cell_type": "code",
   "execution_count": 11,
   "metadata": {},
   "outputs": [
    {
     "data": {
      "text/plain": [
       "852"
      ]
     },
     "execution_count": 11,
     "metadata": {},
     "output_type": "execute_result"
    }
   ],
   "source": [
    "len(train_keys)"
   ]
  },
  {
   "cell_type": "code",
   "execution_count": 12,
   "metadata": {},
   "outputs": [
    {
     "data": {
      "text/plain": [
       "94"
      ]
     },
     "execution_count": 12,
     "metadata": {},
     "output_type": "execute_result"
    }
   ],
   "source": [
    "len(test_keys)"
   ]
  },
  {
   "cell_type": "code",
   "execution_count": 13,
   "metadata": {
    "colab": {
     "base_uri": "https://localhost:8080/"
    },
    "executionInfo": {
     "elapsed": 793,
     "status": "ok",
     "timestamp": 1605869344693,
     "user": {
      "displayName": "Max Kmet",
      "photoUrl": "https://lh3.googleusercontent.com/a-/AOh14GgshDySRQ74Be66q35D4PH4OKMw-5pJ2KYar_CvxA=s64",
      "userId": "17150367799479334609"
     },
     "user_tz": -120
    },
    "id": "O_gsvXkRMUET",
    "outputId": "0c90a451-4273-4356-8bce-87aacc35234d"
   },
   "outputs": [],
   "source": [
    "train_data_dict = {k: data_dict[k] for k in train_keys}\n",
    "test_data_dict = {k: data_dict[k] for k in test_keys}"
   ]
  },
  {
   "cell_type": "code",
   "execution_count": 14,
   "metadata": {
    "executionInfo": {
     "elapsed": 577,
     "status": "ok",
     "timestamp": 1605869351249,
     "user": {
      "displayName": "Max Kmet",
      "photoUrl": "https://lh3.googleusercontent.com/a-/AOh14GgshDySRQ74Be66q35D4PH4OKMw-5pJ2KYar_CvxA=s64",
      "userId": "17150367799479334609"
     },
     "user_tz": -120
    },
    "id": "INtdtIRFOx-P"
   },
   "outputs": [],
   "source": [
    "pd.to_pickle(train_data_dict, \"train_data_dict_ml100k.pkl\") # user ids to likes (gte 4 rate)\n",
    "pd.to_pickle(test_data_dict, \"test_data_dict_ml100k.pkl\")"
   ]
  },
  {
   "cell_type": "code",
   "execution_count": 15,
   "metadata": {
    "executionInfo": {
     "elapsed": 578,
     "status": "ok",
     "timestamp": 1605869359260,
     "user": {
      "displayName": "Max Kmet",
      "photoUrl": "https://lh3.googleusercontent.com/a-/AOh14GgshDySRQ74Be66q35D4PH4OKMw-5pJ2KYar_CvxA=s64",
      "userId": "17150367799479334609"
     },
     "user_tz": -120
    },
    "id": "Z6LUg_ayNaU6"
   },
   "outputs": [],
   "source": [
    "from tqdm import tqdm as tn"
   ]
  },
  {
   "cell_type": "code",
   "execution_count": 16,
   "metadata": {
    "colab": {
     "base_uri": "https://localhost:8080/"
    },
    "executionInfo": {
     "elapsed": 1463,
     "status": "ok",
     "timestamp": 1605869452824,
     "user": {
      "displayName": "Max Kmet",
      "photoUrl": "https://lh3.googleusercontent.com/a-/AOh14GgshDySRQ74Be66q35D4PH4OKMw-5pJ2KYar_CvxA=s64",
      "userId": "17150367799479334609"
     },
     "user_tz": -120
    },
    "id": "f6Y6soKCRnmn",
    "outputId": "011b7003-cc35-45b8-96ac-e69b34eab757"
   },
   "outputs": [
    {
     "data": {
      "text/plain": [
       "1439"
      ]
     },
     "execution_count": 16,
     "metadata": {},
     "output_type": "execute_result"
    }
   ],
   "source": [
    "all_likes_set = set() \n",
    "for l in train_data_dict.values():\n",
    "    all_likes_set.update(l)\n",
    "len(all_likes_set)"
   ]
  },
  {
   "cell_type": "code",
   "execution_count": null,
   "metadata": {
    "id": "t9gOi2mDlYrh"
   },
   "outputs": [],
   "source": []
  },
  {
   "cell_type": "code",
   "execution_count": 17,
   "metadata": {
    "id": "_21lhYspXf7n"
   },
   "outputs": [],
   "source": [
    "from gensim.test.utils import get_tmpfile\n",
    "from gensim.models.callbacks import CallbackAny2Vec\n",
    "\n",
    "class EpochLogger(CallbackAny2Vec):\n",
    "    '''Callback to log information about training'''\n",
    "\n",
    "    def __init__(self):\n",
    "        self.epoch = 0\n",
    "    \n",
    "    def on_epoch_begin(self, model):\n",
    "        print(\"Epoch #{} start\".format(self.epoch))\n",
    "\n",
    "    def on_epoch_end(self, model):\n",
    "        print(\"Epoch #{} end\".format(self.epoch))\n",
    "        self.epoch += 1"
   ]
  },
  {
   "cell_type": "code",
   "execution_count": 18,
   "metadata": {
    "id": "uj8g9Xz-9Ld6"
   },
   "outputs": [],
   "source": [
    "class EpochSaver(CallbackAny2Vec):\n",
    "    '''Callback to save model after each epoch.'''\n",
    "\n",
    "    def __init__(self):\n",
    "        self.epoch = 0\n",
    "\n",
    "    def on_epoch_end(self, model):\n",
    "        model.save(\"word2vec_ml00k_epoch.model\")\n",
    "        model.wv.save(\"vectors_ml100k_epoch.kv\")\n",
    "        self.epoch += 1"
   ]
  },
  {
   "cell_type": "code",
   "execution_count": 19,
   "metadata": {
    "id": "wq6pFHTNgBeX"
   },
   "outputs": [],
   "source": [
    "import pandas as pd"
   ]
  },
  {
   "cell_type": "code",
   "execution_count": 20,
   "metadata": {
    "colab": {
     "base_uri": "https://localhost:8080/",
     "height": 34
    },
    "executionInfo": {
     "elapsed": 859,
     "status": "ok",
     "timestamp": 1603105754381,
     "user": {
      "displayName": "Максим Кметь",
      "photoUrl": "https://lh3.googleusercontent.com/a-/AOh14GhBdB9-JNNmjZxOncIynbf49KF-7tLmIxOr1sc=s64",
      "userId": "09751021267457087454"
     },
     "user_tz": -180
    },
    "id": "bcRI-ccR-yAx",
    "outputId": "d8fd34ae-2d81-4f5b-96e1-32f2ce2d12cf"
   },
   "outputs": [
    {
     "data": {
      "text/plain": [
       "852"
      ]
     },
     "execution_count": 20,
     "metadata": {},
     "output_type": "execute_result"
    }
   ],
   "source": [
    "len(train_data_dict.values())"
   ]
  },
  {
   "cell_type": "code",
   "execution_count": 21,
   "metadata": {
    "colab": {
     "base_uri": "https://localhost:8080/",
     "height": 34
    },
    "executionInfo": {
     "elapsed": 783,
     "status": "ok",
     "timestamp": 1603105916511,
     "user": {
      "displayName": "Максим Кметь",
      "photoUrl": "https://lh3.googleusercontent.com/a-/AOh14GhBdB9-JNNmjZxOncIynbf49KF-7tLmIxOr1sc=s64",
      "userId": "09751021267457087454"
     },
     "user_tz": -180
    },
    "id": "eIj64Jn30uY6",
    "outputId": "32b80364-799f-40f9-f85e-3d9073294921"
   },
   "outputs": [
    {
     "data": {
      "text/plain": [
       "[1, 3, 2]"
      ]
     },
     "execution_count": 21,
     "metadata": {},
     "output_type": "execute_result"
    }
   ],
   "source": [
    "import random\n",
    "a = [1,2,3]\n",
    "random.shuffle(a)\n",
    "a"
   ]
  },
  {
   "cell_type": "code",
   "execution_count": null,
   "metadata": {
    "id": "-Q3sU4kT06Yt"
   },
   "outputs": [],
   "source": [
    "from tqdm import tqdm as tn"
   ]
  },
  {
   "cell_type": "code",
   "execution_count": 49,
   "metadata": {
    "colab": {
     "base_uri": "https://localhost:8080/",
     "height": 34
    },
    "executionInfo": {
     "elapsed": 959744,
     "status": "ok",
     "timestamp": 1603106879437,
     "user": {
      "displayName": "Максим Кметь",
      "photoUrl": "https://lh3.googleusercontent.com/a-/AOh14GhBdB9-JNNmjZxOncIynbf49KF-7tLmIxOr1sc=s64",
      "userId": "09751021267457087454"
     },
     "user_tz": -180
    },
    "id": "wHvgjJNe2YTt",
    "outputId": "9a9b0058-17f1-4c07-dacb-b9f613ce1a69"
   },
   "outputs": [
    {
     "name": "stderr",
     "output_type": "stream",
     "text": [
      "100%|██████████| 30/30 [00:00<00:00, 33.82it/s]\n"
     ]
    }
   ],
   "source": [
    "#twice more random shuffles\n",
    "shuffled_sents = []\n",
    "for _ in tn(list(range(30))):\n",
    "    for sent in list(train_data_dict.values()):\n",
    "        \n",
    "        random.shuffle(sent)\n",
    "        shuffled_sents.append(sent)"
   ]
  },
  {
   "cell_type": "code",
   "execution_count": null,
   "metadata": {},
   "outputs": [],
   "source": []
  },
  {
   "cell_type": "code",
   "execution_count": 50,
   "metadata": {
    "colab": {
     "base_uri": "https://localhost:8080/",
     "height": 34
    },
    "executionInfo": {
     "elapsed": 879,
     "status": "ok",
     "timestamp": 1603107182405,
     "user": {
      "displayName": "Максим Кметь",
      "photoUrl": "https://lh3.googleusercontent.com/a-/AOh14GhBdB9-JNNmjZxOncIynbf49KF-7tLmIxOr1sc=s64",
      "userId": "09751021267457087454"
     },
     "user_tz": -180
    },
    "id": "TIeClTnx2khM",
    "outputId": "836d0d28-8cc4-47b1-d8be-c651485beac6"
   },
   "outputs": [
    {
     "data": {
      "text/plain": [
       "25560"
      ]
     },
     "execution_count": 50,
     "metadata": {},
     "output_type": "execute_result"
    }
   ],
   "source": [
    "len(shuffled_sents)"
   ]
  },
  {
   "cell_type": "code",
   "execution_count": 51,
   "metadata": {
    "colab": {
     "base_uri": "https://localhost:8080/",
     "height": 292
    },
    "id": "hOON042lUKZF",
    "outputId": "4565180a-59b0-4cc9-9445-661a20b2e401"
   },
   "outputs": [
    {
     "name": "stdout",
     "output_type": "stream",
     "text": [
      "Epoch #0 start\n",
      "Epoch #0 end\n",
      "Epoch #1 start\n",
      "Epoch #1 end\n",
      "Epoch #2 start\n",
      "Epoch #2 end\n",
      "Epoch #3 start\n",
      "Epoch #3 end\n",
      "Epoch #4 start\n",
      "Epoch #4 end\n",
      "Epoch #5 start\n",
      "Epoch #5 end\n",
      "Epoch #6 start\n",
      "Epoch #6 end\n",
      "Epoch #7 start\n",
      "Epoch #7 end\n",
      "Epoch #8 start\n",
      "Epoch #8 end\n",
      "Epoch #9 start\n",
      "Epoch #9 end\n",
      "Epoch #10 start\n",
      "Epoch #10 end\n",
      "Epoch #11 start\n",
      "Epoch #11 end\n",
      "Epoch #12 start\n",
      "Epoch #12 end\n",
      "Epoch #13 start\n",
      "Epoch #13 end\n",
      "Epoch #14 start\n",
      "Epoch #14 end\n",
      "Epoch #15 start\n",
      "Epoch #15 end\n",
      "Epoch #16 start\n",
      "Epoch #16 end\n",
      "Epoch #17 start\n",
      "Epoch #17 end\n",
      "Epoch #18 start\n",
      "Epoch #18 end\n",
      "Epoch #19 start\n",
      "Epoch #19 end\n",
      "Epoch #20 start\n",
      "Epoch #20 end\n",
      "Epoch #21 start\n",
      "Epoch #21 end\n",
      "Epoch #22 start\n",
      "Epoch #22 end\n",
      "Epoch #23 start\n",
      "Epoch #23 end\n",
      "Epoch #24 start\n",
      "Epoch #24 end\n",
      "Epoch #25 start\n",
      "Epoch #25 end\n",
      "Epoch #26 start\n",
      "Epoch #26 end\n",
      "Epoch #27 start\n",
      "Epoch #27 end\n",
      "Epoch #28 start\n",
      "Epoch #28 end\n",
      "Epoch #29 start\n",
      "Epoch #29 end\n",
      "Epoch #30 start\n",
      "Epoch #30 end\n",
      "Epoch #31 start\n",
      "Epoch #31 end\n",
      "Epoch #32 start\n",
      "Epoch #32 end\n",
      "Epoch #33 start\n",
      "Epoch #33 end\n",
      "Epoch #34 start\n",
      "Epoch #34 end\n",
      "Epoch #35 start\n",
      "Epoch #35 end\n",
      "Epoch #36 start\n",
      "Epoch #36 end\n",
      "Epoch #37 start\n",
      "Epoch #37 end\n",
      "Epoch #38 start\n",
      "Epoch #38 end\n",
      "Epoch #39 start\n",
      "Epoch #39 end\n",
      "Epoch #40 start\n",
      "Epoch #40 end\n",
      "Epoch #41 start\n",
      "Epoch #41 end\n",
      "Epoch #42 start\n",
      "Epoch #42 end\n",
      "Epoch #43 start\n",
      "Epoch #43 end\n",
      "Epoch #44 start\n",
      "Epoch #44 end\n",
      "Epoch #45 start\n",
      "Epoch #45 end\n",
      "Epoch #46 start\n",
      "Epoch #46 end\n",
      "Epoch #47 start\n",
      "Epoch #47 end\n",
      "Epoch #48 start\n",
      "Epoch #48 end\n",
      "Epoch #49 start\n",
      "Epoch #49 end\n"
     ]
    }
   ],
   "source": [
    "epoch_logger = EpochLogger()\n",
    "epoch_saver = EpochSaver()\n",
    "\n",
    "from gensim.models import Word2Vec\n",
    "from gensim.test.utils import get_tmpfile\n",
    "model = Word2Vec(sentences = shuffled_sents, size=100, window=40, min_count=1, workers=4, callbacks=[epoch_logger, epoch_saver], iter=50)\n",
    "model.save(\"word2vec_ml100k_30shufs.model\")\n",
    "\n",
    "word_vectors = model.wv\n",
    "word_vectors.save(\"ml100k_vectors_30shufs.kv\")"
   ]
  },
  {
   "cell_type": "code",
   "execution_count": 74,
   "metadata": {
    "id": "wOzSKyT1f4lZ"
   },
   "outputs": [],
   "source": []
  },
  {
   "cell_type": "code",
   "execution_count": null,
   "metadata": {
    "colab": {
     "base_uri": "https://localhost:8080/",
     "height": 71
    },
    "executionInfo": {
     "elapsed": 652,
     "status": "ok",
     "timestamp": 1603022009049,
     "user": {
      "displayName": "Максим Кметь",
      "photoUrl": "https://lh3.googleusercontent.com/a-/AOh14GhBdB9-JNNmjZxOncIynbf49KF-7tLmIxOr1sc=s64",
      "userId": "09751021267457087454"
     },
     "user_tz": -180
    },
    "id": "3IKoD34Ubp01",
    "outputId": "9120a5a2-aaa5-43c8-f16c-286837a88503"
   },
   "outputs": [],
   "source": []
  },
  {
   "cell_type": "code",
   "execution_count": 76,
   "metadata": {
    "colab": {
     "base_uri": "https://localhost:8080/",
     "height": 72
    },
    "executionInfo": {
     "elapsed": 4706,
     "status": "ok",
     "timestamp": 1603463282538,
     "user": {
      "displayName": "Максим Кметь",
      "photoUrl": "https://lh3.googleusercontent.com/a-/AOh14GhBdB9-JNNmjZxOncIynbf49KF-7tLmIxOr1sc=s64",
      "userId": "09751021267457087454"
     },
     "user_tz": -180
    },
    "id": "yg8YRe_HyW94",
    "outputId": "4d5477c1-b37a-40a5-8cf2-aec8f14f1f55"
   },
   "outputs": [],
   "source": []
  },
  {
   "cell_type": "code",
   "execution_count": null,
   "metadata": {
    "id": "Rrc6ULa53BJB"
   },
   "outputs": [],
   "source": []
  }
 ],
 "metadata": {
  "colab": {
   "collapsed_sections": [],
   "name": "Word2Vec.ipynb",
   "provenance": []
  },
  "kernelspec": {
   "display_name": "Python 3",
   "language": "python",
   "name": "python3"
  },
  "language_info": {
   "codemirror_mode": {
    "name": "ipython",
    "version": 3
   },
   "file_extension": ".py",
   "mimetype": "text/x-python",
   "name": "python",
   "nbconvert_exporter": "python",
   "pygments_lexer": "ipython3",
   "version": "3.6.12"
  }
 },
 "nbformat": 4,
 "nbformat_minor": 1
}
