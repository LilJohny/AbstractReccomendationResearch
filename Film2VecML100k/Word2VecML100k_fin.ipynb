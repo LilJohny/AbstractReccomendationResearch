{
 "cells": [
  {
   "cell_type": "code",
   "execution_count": 42,
   "metadata": {},
   "outputs": [],
   "source": [
    "from gensim.models.keyedvectors import KeyedVectors\n",
    "\n",
    "word_vectors = KeyedVectors.load(\"ml100k_vectors_30shufs.kv\", mmap='r')"
   ]
  },
  {
   "cell_type": "code",
   "execution_count": 43,
   "metadata": {},
   "outputs": [],
   "source": [
    "import pandas as pd"
   ]
  },
  {
   "cell_type": "code",
   "execution_count": 44,
   "metadata": {},
   "outputs": [],
   "source": [
    "ml100k_id_to_movie_dict = pd.read_pickle(\"ml100k_id_to_movie_dict.pkl\")"
   ]
  },
  {
   "cell_type": "code",
   "execution_count": null,
   "metadata": {},
   "outputs": [],
   "source": []
  },
  {
   "cell_type": "code",
   "execution_count": 45,
   "metadata": {},
   "outputs": [],
   "source": [
    "def get_recommendations(users_likes, n = 5):\n",
    "    #users_likes - list of ml100k film ids as string\n",
    "    #topn - num most likely\n",
    "    word_vectors.most_similar_cosmul(positive=users_likes)\n",
    "    all_recomendations = []\n",
    "    for like in users_likes:\n",
    "        all_recomendations += word_vectors.similar_by_word(like, topn=n)\n",
    "    all_recomendations = list(filter(lambda x: x[0] not in users_likes ,list(set(list(all_recomendations)))))\n",
    "    all_recomendations.sort(key = lambda x: x[1], reverse = True)\n",
    "    all_recomendations_new = []\n",
    "    used_ids = []\n",
    "    for rec in all_recomendations:\n",
    "        if rec[0] not in used_ids:\n",
    "            all_recomendations_new.append(rec)\n",
    "            used_ids.append(rec[0])\n",
    "    result = []\n",
    "    for recom in all_recomendations_new[:n]:\n",
    "        result.append({\"ml100k_id\": recom[0], \"similarity\": recom[1], \"film_name\": ml100k_id_to_movie_dict[recom[0]]})\n",
    "    return result"
   ]
  },
  {
   "cell_type": "code",
   "execution_count": null,
   "metadata": {},
   "outputs": [],
   "source": []
  },
  {
   "cell_type": "code",
   "execution_count": 46,
   "metadata": {},
   "outputs": [
    {
     "data": {
      "text/plain": [
       "[{'ml100k_id': '1443',\n",
       "  'similarity': 0.35519102215766907,\n",
       "  'film_name': '8 Seconds (1994)'},\n",
       " {'ml100k_id': '163',\n",
       "  'similarity': 0.3160759210586548,\n",
       "  'film_name': 'Return of the Pink Panther, The (1974)'},\n",
       " {'ml100k_id': '812',\n",
       "  'similarity': 0.283936083316803,\n",
       "  'film_name': 'Andre (1994)'},\n",
       " {'ml100k_id': '686',\n",
       "  'similarity': 0.2775755524635315,\n",
       "  'film_name': 'Perfect World, A (1993)'},\n",
       " {'ml100k_id': '548',\n",
       "  'similarity': 0.2580101191997528,\n",
       "  'film_name': 'NeverEnding Story III, The (1994)'}]"
      ]
     },
     "execution_count": 46,
     "metadata": {},
     "output_type": "execute_result"
    }
   ],
   "source": [
    "# '71' - 'Lion King, The (1994)'\n",
    "get_recommendations(['71'])"
   ]
  },
  {
   "cell_type": "code",
   "execution_count": 47,
   "metadata": {},
   "outputs": [
    {
     "data": {
      "text/plain": [
       "[{'ml100k_id': '1263',\n",
       "  'similarity': 0.30168333649635315,\n",
       "  'film_name': 'Foxfire (1996)'},\n",
       " {'ml100k_id': '664',\n",
       "  'similarity': 0.30010706186294556,\n",
       "  'film_name': 'Paris, Texas (1984)'},\n",
       " {'ml100k_id': '1104',\n",
       "  'similarity': 0.29060035943984985,\n",
       "  'film_name': \"C'est arrivé près de chez vous (1992)\"},\n",
       " {'ml100k_id': '520',\n",
       "  'similarity': 0.2880657911300659,\n",
       "  'film_name': 'Great Escape, The (1963)'},\n",
       " {'ml100k_id': '640',\n",
       "  'similarity': 0.2744288742542267,\n",
       "  'film_name': 'Cook the Thief His Wife & Her Lover, The (1989)'}]"
      ]
     },
     "execution_count": 47,
     "metadata": {},
     "output_type": "execute_result"
    }
   ],
   "source": [
    "#96 - 'Terminator 2: Judgment Day (1991)'\n",
    "get_recommendations(['96'])"
   ]
  },
  {
   "cell_type": "code",
   "execution_count": null,
   "metadata": {},
   "outputs": [],
   "source": []
  }
 ],
 "metadata": {
  "kernelspec": {
   "display_name": "Python 3",
   "language": "python",
   "name": "python3"
  },
  "language_info": {
   "codemirror_mode": {
    "name": "ipython",
    "version": 3
   },
   "file_extension": ".py",
   "mimetype": "text/x-python",
   "name": "python",
   "nbconvert_exporter": "python",
   "pygments_lexer": "ipython3",
   "version": "3.6.12"
  }
 },
 "nbformat": 4,
 "nbformat_minor": 4
}
